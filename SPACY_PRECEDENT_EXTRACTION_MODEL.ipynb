{
  "nbformat": 4,
  "nbformat_minor": 0,
  "metadata": {
    "colab": {
      "provenance": []
    },
    "kernelspec": {
      "name": "python3",
      "display_name": "Python 3"
    },
    "language_info": {
      "name": "python"
    }
  },
  "cells": [
    {
      "cell_type": "code",
      "execution_count": null,
      "metadata": {
        "id": "Zqwh_BXh--I2"
      },
      "outputs": [],
      "source": [
        "!pip install -U spacy -q"
      ]
    },
    {
      "cell_type": "code",
      "source": [
        "import spacy\n",
        "from spacy.tokens import DocBin\n",
        "from tqdm import tqdm\n",
        "nlp = spacy.blank(\"en\")\n",
        "db = DocBin()"
      ],
      "metadata": {
        "id": "Fcr1GKtR_R_N"
      },
      "execution_count": null,
      "outputs": []
    },
    {
      "cell_type": "code",
      "source": [
        "from google.colab import drive\n",
        "drive.mount('/content/drive')"
      ],
      "metadata": {
        "colab": {
          "base_uri": "https://localhost:8080/"
        },
        "id": "EDxz55cK_co8",
        "outputId": "d51a00db-5bd0-46f3-b95b-b6cf3f030019"
      },
      "execution_count": null,
      "outputs": [
        {
          "output_type": "stream",
          "name": "stdout",
          "text": [
            "Drive already mounted at /content/drive; to attempt to forcibly remount, call drive.mount(\"/content/drive\", force_remount=True).\n"
          ]
        }
      ]
    },
    {
      "cell_type": "code",
      "source": [
        "import json\n",
        "f = open('/content/drive/MyDrive/Colab Notebooks/MTP after 15/P_annotations/annotations_precedent.json')\n",
        "P_DATA = json.load(f)"
      ],
      "metadata": {
        "id": "X3x6gv83_hy-"
      },
      "execution_count": null,
      "outputs": []
    },
    {
      "cell_type": "code",
      "source": [
        "P_DATA"
      ],
      "metadata": {
        "colab": {
          "base_uri": "https://localhost:8080/"
        },
        "id": "t5pEMBVjAU__",
        "outputId": "d972f762-dff9-44d5-9c19-0b84bb449d35"
      },
      "execution_count": null,
      "outputs": [
        {
          "output_type": "execute_result",
          "data": {
            "text/plain": [
              "{'classes': ['PRECEDENT'],\n",
              " 'annotations': [['Further, learned senior counsel relied upon a judgment of this Court in New India Assurance Co. Ltd. vs. Genus Power Infrastructure Ltd. (2015) 2 SCC 424 wherein this Court has held as under:- \\r\\n7. The question that arises is whether the discharge in the present case upon acceptance of compensation and signing of subrogation letter was not voluntary and whether the claimant was subjected to compulsion or coercion and as such could validly invoke the jurisdiction under Section 11 of the Act. The law on the point is clear from following decisions of this Court. In National Insurance Co. Ltd. v. Boghara Polyfab (P) Ltd in paras 26 and 51 it was stated as under:\\r\\n26. When we refer to a discharge of contract by an agreement signed by both the parties or by eXecution of a full and final discharge voucher/receipt by one of the parties, we refer to an agreement or discharge voucher which is validly and voluntarily eXecuted. If the party which has eXecuted the discharge agreement or discharge voucher, alleges that the eXecution of such discharge agreement or voucher was on account of fraud/coercion/undue influence practised by the other party and is able to establish the same, then obviously the discharge of the contract by such agreement/voucher is rendered void and cannot be acted upon. Consequently, any dispute raised by such party would be arbitrable.\\r\\n51. The\\tChief Justice/his designate exercising jurisdiction under Section 11 of the Act will consider whether there was really accord and satisfaction or discharge of contract by performance. If the answer is in the affirmative, he will refuse to refer the dispute to arbitration. On the other hand, if the Chief Justice/his designate comes to the conclusion that the full and final settlement receipt or discharge voucher was the result of any fraud/coercion/undue influence, he will have to hold that there was no discharge of the contract and consequently, refer the dispute to arbitration. Alternatively, where the Chief Justice/his designate is satisfied prima facie that the discharge voucher was not issued voluntarily and the claimant was under some compulsion or coercion, and that the matter deserved detailed consideration, he may instead of deciding the issue himself, refer the matter to the Arbitral Tribunal with a specific direction that the said question should be decided in the first instance.\\r\\n',\n",
              "   {'entities': [[101, 104, 'PRECEDENT'], [597, 599, 'PRECEDENT']]}],\n",
              "  ['\\r\\n8. In the decision rendered in Union of India v. Master Construction Co this Court observed as under: 18. In our opinion, there is no rule of the absolute kind. In a case where the claimant contends that a discharge voucher or no-claim certificate has been obtained by fraud, coercion, duress or undue influence and the other side contests the correctness thereof, the Chief Justice/his designate must look into this aspect to find out at least, prima facie, whether or not the dispute is bona fide and genuine. Where the dispute raised by the claimant with regard to validity of the discharge voucher or no-claim certificate or settlement agreement, prima facie, appears to be lacking in credibility, there may not be a necessity to refer the dispute for arbitration at all\\r\\n',\n",
              "   {'entities': [[48, 50, 'PRECEDENT']]}],\n",
              "  ['\\r\\n21)Learned counsel further relied upon a decision of this Court in R.L. Kalathia & Co. vs. State of Gujarat (2011) 2 SCC 400 wherein it was held as under:-\\r\\n10. Before going into the factual matriX on this aspect, it is useful to refer the decisions of this Court relied on by Mr Altaf Ahmed. In NTPC Ltd. v. Reshmi Constructions, Builders & Contractors1 which relates to termination of a contract, one of the questions that arose for consideration was:\\r\\n(i) Whether after the contract comes to an end by completion of the contract work and acceptance of the final bill in full and final satisfaction and after issuing a no-demand certificate by the contractor, can any party to the contract raise any dispute for reference to arbitration? While answering the said issue this Court held:\\r\\n27.Even when rights and obligations of the parties are worked out, the contract does not come to an end inter alia for the purpose of determination of the disputes arising thereunder, and, thus, the arbitration agreement can be invoked. Although it may not be strictly in place but we cannot shut our eyes to the ground reality that in a case where a contractor has made huge investment, he cannot afford not to take from the employer the amount under the bills, for various reasons which may include discharge of his liability towards the banks, financial institutions and other persons. In such a situation, the public sector undertakings would have an upper hand. They would not ordinarily release the money unless a no-demand certificate is signed. Each case, therefore, is required to be considered on its own facts.\\r\\n28.Further, necessitas non habet legem is an age-old maxim which means necessity knows no law. A person may sometimes have to succumb to the pressure of the other party to the bargain who is in a stronger position.\\r\\n',\n",
              "   {'entities': [[89, 92, 'PRECEDENT'], [308, 310, 'PRECEDENT']]}],\n",
              "  ['\\r\\n14.Similarly, in MCD v. M/s Harcharan Dass Gupta Construction4 on the proposition that this Court does not sit as a Court of appeal over the findings of fact recorded by the sole arbitrator and\\r\\nalso there are no valid grounds flagged by the petitioner to challenge the arbitral award under the realm of Section 34 of the Act.\\r\\n',\n",
              "   {'entities': [[23, 25, 'PRECEDENT']]}],\n",
              "  [\"\\r\\n15.The ApeX Court in the landmark judgment of Associate Builders v. Delhi Development Authority5 while setting aside the judgment passed by the Division Bench of Hon'ble High Court of Delhi culled out the legal principles after traversing the judicial pronouncements passed by the various High Courts and the ApeX Court.\\r\\n\",\n",
              "   {'entities': [[67, 69, 'PRECEDENT']]}],\n",
              "  [\"\\r\\n17.At this stage, I would deem appropriate to observe that MTNL had challenged the separate arbitral awards dated 15.12.2006 passed by the arbitrator with regard to the similar dispute arising from the similar agreement before the Hon'ble High Court of Delhi in legal proceedings titled as Mahanagar Telephone Nigam Limited v. M/s Gaurav Enterprise,7 Mahanagar Telephone Nigam Limited v. M/s H S Construction Co.8 and Mahanagar Telephone Nigam Limited v. M/s H S Construction Co.9 under Section 34 of the Act and the same were disposed of by judgment dated 09.04.2018.\\r\\n\",\n",
              "   {'entities': [[326, 328, 'PRECEDENT'],\n",
              "     [387, 389, 'PRECEDENT'],\n",
              "     [454, 456, 'PRECEDENT']]}],\n",
              "  [\"\\r\\n18.This court observes that not only MTNL challenged the judgment dated 09.04.2018 by preferring appeal(s) under Section 37 of the Act before the Division Bench of the Hon'ble High Court of Delhi in batch appeals titled as Mahanagar Telephone Nigam Limited v. M/s Gaurav Enterprise,10 Mahanagar Telephone Nigam Limited v. M/s H S Construction Co. 11 and Mahanagar Telephone Nigam Limited v. M/s H S Construction Co. 12 but also challenged the 7 OMP (COMM) No. 286/2016 and IA No. 6836/2016 date of decision 09.04.2018 8 OMP (COMM) No. 181/2017 and IA Nos. 4244/2017 & 7724/2017 date of decision 09.04.2018 9 OMP (COMM) No. 182/2017 and IA Nos. 4245/2017 & 7726/2017 date of decision 09.04.2018 10 FAO(OS) (COMM) No. 175/2018 and CM No. 32193/2018 date of decision 25.09.2018 11 FAO(OS) (COMM) No. 180/2018 and CM No. 32639/2018 date of decision 25.09.2018 12 FAO(OS) (COMM) No. 181/2018 and CM No. 32645/2018 date of decision 25.09.2018 Page No. 9/15 judgment dated 25.09.2018 passed by the Division Bench of the Hon'ble High Court before the Hon'ble Supreme Court. The Division Bench of the Hon'ble High Court of Delhi by judgment dated 25.09.2018 dismissed the appeals and held that no ground is made out to interfere in the impugned judgment passed by the Ld. Single Judge of the Hon'ble High Court of Delhi.\\r\\n\",\n",
              "   {'entities': [[259, 261, 'PRECEDENT'],\n",
              "     [321, 323, 'PRECEDENT'],\n",
              "     [390, 392, 'PRECEDENT']]}],\n",
              "  [\"\\r\\n19.Interestingly, MTNL's challenge to the judgment dated 25.09.2018 passed by the Division Bench of the Hon'ble High Court of Delhi before the ApeX Court in a special leave petition titled as Mahanagar Telephone Nigam Limited v. M/s H.S. Construction Co.13 was a damp squib, as the same was dismissed by order dated 16.04.2019.\\r\\n\",\n",
              "   {'entities': [[228, 230, 'PRECEDENT']]}],\n",
              "  ['\\r\\n20.On careful perusal of the paper-book, arbitral record and the judgment dated 09.04.201814 passed by the Hon\\'ble High Court of Delhi and the judgment and order of the Superior Courts, I am of no different view than taken by the Hon\\'ble High Court in the challenge to the arbitral award under Section 34 of the Act. The relevant eXtract of the judgment dated 09.04.201815 is reproduced verbatim, as under:\\r\\n\"Reasons and Conclusion 13 SLP(C) No. 7891/2019 dismissed by order dated 16.04.2019 14 (a) Mahanagar Telephone Nigam Limited v. M/s Gaurav Enterprise - OMP (COMM) No. 286/2016 and IA No. 6836/2016 date of decision 09.04.2018;\\r\\n(b)Mahanagar Telephone Nigam Limited v. M/s H S Construction Co. - OMP (COMM) No. 181/2017 and IA Nos. 4244/2017 & 7724/2017 date of decision 09.04.2018, and\\r\\n(b)Mahanagar Telephone Nigam Limited v. M/s H S Construction Co. - OMP (COMM) No. 181/2017 and IA Nos. 4244/2017 & 7724/2017 date of decision 09.04.2018, and\\r\\n',\n",
              "   {'entities': [[535, 537, 'PRECEDENT'],\n",
              "     [674, 676, 'PRECEDENT'],\n",
              "     [833, 835, 'PRECEDENT']]}],\n",
              "  ['\\r\\nThe aforesaid provisions prescribe the procedure to be followed by the arbitral tribunal coupled with its powers. Power and procedure are synonymous in the present case. By prescribing the procedure, the arbitral tribunal is empowered and is required to decide the dispute in accordance with the provisions of the Act, that is to say, the jurisdiction of the tribunal to decide the dispute is prescribed. In these sections there is no distinction between the jurisdiction/power and the procedure. In Harish Chandra Bajpai v. Triloki Singh [1957 SCR 370], while dealing with Sections 90 and 92 of the Representation of the People Act, 1951 (as it stood), this Court observed thus:- \"It is then argued that S. 92 confers powers on the Tribunal in respect of certain matters, while S. 90(2) applies the CPC in respect of matters relating to procedure that there is a distinction between power and procedure, and that the granting of amendment being a power and not a matter of procedure, it can be claimed only under section 92 and not under S. 90(2). We do not see any antithesis between \\'procedure\\' in S. 90(2) and \\'powers\\' under S. 92. When the respondent applied to the Tribunal for amendment, he took a procedural step, and that he was clearly entitled to do under S. 90(2). The question of power arises only with reference to the order to be passed on the petition by the Tribunal. Is it to be held that the presentation of a petition is competent, but the passing of any order thereon is not? We are of opinion that there is no substance in the contention either.\"\\r\\n',\n",
              "   {'entities': [[524, 526, 'PRECEDENT']]}],\n",
              "  ['\\r\\nThe aforesaid interpretation of the clause (v) would be in conformity with the settled principle of law that the procedural law cannot fail to provide relief when substantive law gives the right. Principle is\\r\\n- there cannot be any wrong without a remedy. In M.V. Elisabeth and others v. Harwan Investment & Trading Pvt. Ltd. [1993 Supp. (2) SCC 433] this Court observed that where substantive law demands justice for the party aggrieved and the statute has not provided the remedy, it is the duty of the Court to devise procedure by drawing analogy from other systems of law and practice. Similarly, in Dhanna Lal v. Kalawatibai and others [(2002) 6 SCC 16] this Court observed that wrong must not be left unredeemed and right not left unenforced.\\r\\n',\n",
              "   {'entities': [[287, 289, 'PRECEDENT'], [617, 619, 'PRECEDENT']]}],\n",
              "  ['\\r\\nFor this purpose, we would refer to few decisions referred to by the learned counsel for the parties. While dealing with the concept of \\'public policy, this Court in Central Inland Water Transport Corporation Limited and another v. Brojo Nath Ganguly and another [(1986) 3 SCC 156] has observed thus: - \"92. The Indian Contract Act does not define the eXpression \"public policy\" or \"opposed to public policy\". From the very nature of things, the eXpressions \"public policy\", \"opposed\\r\\nto public policy\", or \"contrary to public policy\" are incapable of precise definition. Public policy, however, is not the policy of a particular government. It connotes some matter which concerns the public good and the public interest. The concept of what is for the public good or in the public interest or what would be injurious or harmful to the public good or the public interest has varied from time to time. As new concepts take the place of old, transactions which were once considered against public policy are now being upheld by the courts and similarly where there has been a well recognized head of public policy, the courts have not shirked from eXtending it to the new transactions and changed circumstances and have at times not even flinched from inventing a new head of public policy. There are two schools of thought- \"the narrow view\" school and \"the broad view\" school. According to the former, courts cannot create new heads of public policy whereas the latter countenances judicial law-making in this area. The adherents of \"the narrow view\" school would not invalidate a contract on the ground of public policy unless that particular ground had been well- established by authorities. Hardly ever has the voice of the timorous spoken more clearly and loudly than in these words of Lord Davey in Janson v. Driefontein Consolidated Gold Mines Ltd. [(1902) AC 484, 500] : \"Public Policy is always an unsafe and treacherous ground for legal decision\". That was in the year 1902. Seventy-eight years earlier, Burrough, J., in Richardson v. Mellish [(1824) 2 Bing 229, 252] described public policy as \"a very unruly horse, and when once you get astride it you never know where it will carry you.\" The Master of the Rolls, Lord Denning, however, was not a man to shy away from unmanageable horses and in words which conjure up before our eyes the picture of the young AleXander the Great taming Bucephalus, he said in Enderby Town Football Club Ltd. v. Football Assn. Ltd. [(1971) Ch. 591, 606]; \"With a good man in the saddle, the unruly horse can be kept in control. It can jump over obstacles\". Had the timorous always held the field, not only the doctrine of public policy but even the Common Law or the principles of Equity would never have evolved. Sir William Holdsworth in his \"History of English Law\", Volume III, page 55, has said:\\r\\n',\n",
              "   {'entities': [[231, 233, 'PRECEDENT'], [2043, 2045, 'PRECEDENT']]}],\n",
              "  [\"\\r\\n93. The normal rule of Common Law has been that a party who seeks to enforce an agreement which is opposed to public policy will be non-suited. The case of A. Schroeder Music Public Co. Ltd. v. Macaulay [(1974) 1 WLR 1308], however, establishes that where a contract is vitiated as being\\r\\ncontrary to public policy, the party adversely affected by it can sue to have it declared void. The case may be different where the purpose of the contract is illegal or immoral. In Kedar Nath Motani v. Prahlad Rai [(1960) 1 SCR 861], reversing the High Court and restoring the decree passed by the trial court declaring the appellants' title to the lands in suit and directing the respondents who were the appellants' benamidars to restore possession, this Court, after discussing the English and Indian law on the subject, said (at page 873):\\r\\n\",\n",
              "   {'entities': [[193, 195, 'PRECEDENT'], [491, 493, 'PRECEDENT']]}],\n",
              "  [\"\\r\\nFurther, in Renusagar Power Co. Ltd. v. General Electric Co. [1994 Supp. (1) SCC 644], this Court considered Section 7(1) of the Arbitration (Protocol and Convention) Act, 1937 which inter alia provided that a foreign award may not be enforced under the said Act, if the Court dealing with the case is satisfied that the enforcement of the award will be contrary to the Public Policy. After elaborate discussion, the Court arrived at the conclusion that Public Policy comprehended in Section 7(1)(b)(ii) of the Foreign Awards (Recognition and Enforcement) Act, 1961 is the 'Public Policy of India' and does not cover the public policy of any other country. For giving meaning to the term 'Public Policy', the Court observed thus:-\\r\\n\",\n",
              "   {'entities': [[39, 41, 'PRECEDENT']]}],\n",
              "  ['\\r\\nThis Court in Murlidhar Agarwal and another v. State of U.P. and others [1974 (2) SCC 472] while dealing with the concept of \\'public policy\\' observed thus:-\\r\\n\"31. Public policy does not remain static in any given community. It may vary from generation to generation and even in the same generation. Public policy would be almost useless if it were to remain in fiXed moulds for all time.\\r\\n',\n",
              "   {'entities': [[46, 48, 'PRECEDENT']]}],\n",
              "  ['\\r\\nFrom this discussion it would be clear that the phrase \\'public policy of India\\' is not required to be given a narrower meaning. As stated earlier, the said term is susceptible of narrower or wider meaning depending upon the object and purpose of the legislation. Hence, the award which is passed in contravention of Sections 24, 28 or 31 could be set aside. In addition to Section 34, Section 13(5) of the Act also provides that constitution of the arbitral tribunal could also be challenged by a party. Similarly, Section 16 provides that a party aggrieved by the decision of the arbitral tribunal with regard to its jurisdiction could challenge such arbitral award under Section 34. In any case, it is for the Parliament to provide for limited or wider jurisdiction to the Court in case where award is\\r\\nchallenged. But in such cases, there is no reason to give narrower meaning to the term \\'public policy of India\\' as contended by learned senior counsel Mr. Dave. In our view, wider meaning is required to be given so as to prevent frustration of legislation and justice. This Court in Rattan Chand Hira Chand v. Askar Nawaz Jung (Dead) By LRs and others [(1991) 3 SCC 67], this Court observed thus:- \"17. .. It cannot be disputed that a contract which has a tendency to injure public interests or public welfare is one against public policy. What constitutes an injury to public interests or welfare would depend upon the times and climes. The legislature often fails to keep pace with the changing\\r\\nneeds and values nor as it realistic to eXpect that it will have provided for all contingencies and eventualities. It is, therefore, not only necessary but obligatory on the courts to step in to fill the lacuna. When courts perform this function undoubtedly they legislate judicially. But that is a kind of legislation which stands implicitly delegated to them to further the object of the legislation and to promote the goals of the society. Or to put it negatively, to prevent the frustration of the legislation or perversion of the goals and values of the society.\"\\r\\n',\n",
              "   {'entities': [[1114, 1116, 'PRECEDENT']]}],\n",
              "  ['\\r\\nAs against this, learned senior counsel Mr. Dave submitted that it is settled law that for the breach of contract provisions of Section 74 of the Contract Act would be applicable and compensation / damages could be awarded only if the loss is suffered because of the breach of contract. He submitted that this principle is laid down by the Privy Council as early as in 1929 in Bhai Panna Singh and others v. Bhai Arjun Singh and others [AIR 1929 PC 179], wherein the Privy Council observed thus: - \"The effect of S. 74, Contract Act of 1872, is to disentitle the plaintiffs to recover simplicitor the sum of Rs.10,000/- whether penalty or liquidated damages. The plaintiffs must prove the damages they have suffered.\"\\r\\n',\n",
              "   {'entities': [[407, 409, 'PRECEDENT']]}],\n",
              "  ['\\r\\nMr. Desai referred to the decision rendered by this Court in Delta International Ltd. v. Shyam Sundar Ganeriwalla and another [(1999) 4 SCC 545] and submitted that for the purpose of construction of contracts, the intention of the parties is to be gathered from the words they have used and there is no intention independent of that meaning.\\r\\n',\n",
              "   {'entities': [[88, 90, 'PRECEDENT']]}],\n",
              "  ['\\r\\nIt cannot be disputed that for construction of the contract, it is settled law that the intention of the parties is to be gathered from the words used in the agreement. If words are unambiguous and are used after full understanding of their meaning by eXperts, it would be difficult to gather their intention different from the language used in the agreement. If upon a reading of the document as a whole, it can fairly be deduced from the words actually used therein that the parties had agreed on a particular term, there is nothing in law which prevents them from setting up that term. {Re: Modi & Co. v. Union of India [(1968) 2 SCR 565]}. Further, in construing a contract, the Court must look at the words used in the contract unless they are such that one may suspect that they do not convey the intention correctly. If the words are clear, there is very little the court can do about it. {Re: Provash Chandra Dalui and another v. Biswanath Banerjee and another [1989 Supp (1) SCC 487]}.\\r\\n',\n",
              "   {'entities': [[607, 609, 'PRECEDENT'], [937, 939, 'PRECEDENT']]}],\n",
              "  ['\\r\\nOn this issue, learned counsel for the parties referred to the interpretation given to Sections 73 and 74 of the Indian Contract Act in Sir Chunilal V. Mehta & Sons Ltd. v. The Century Spinning and Manufacturing Co. Ltd. [1962 Supp. (3) SCR 549], Fateh Chand v. Balkishan Das [(1964) 1 SCR 515 at 526], Maula BuX V. Union of India [(1969) 2 SCC 554] Union of India v. Rampur Distillery and Chemical Co. Ltd. [(1973) 1 SCC 649] and Union of India v. Raman Iron Foundry [(1974) 2 SCC 231].\\r\\n',\n",
              "   {'entities': [[151, 153, 'PRECEDENT'],\n",
              "     [172, 174, 'PRECEDENT'],\n",
              "     [261, 263, 'PRECEDENT'],\n",
              "     [315, 317, 'PRECEDENT'],\n",
              "     [367, 369, 'PRECEDENT'],\n",
              "     [448, 450, 'PRECEDENT']]}],\n",
              "  [\"\\r\\nFirstly, it is to be stated that in the aforesaid case Court has not referred to earlier decision rendered by the five Judge Bench in Fateh Chand's case or the decision rendered by the three Judge Bench in Maula BuX's case. Further, in M/s H.M. Kamaluddin Ansari and Co. v. Union of India and others [(1983) 4 SCC 417], three Judge Bench of this Court has over-ruled the decision in Raman Iron Foundry's case (supra) and the Court while interpreting similar term of the contract observed that it gives wider power to Union of India to recover the amount claimed by appropriating any sum then due or which at any time may become due to the contractors under other contracts and the Court observed that clause 18 of the Standard Contract confers ample powers on the Union of India to withhold the amount and no injunction order could be passed restraining the Union of India from withholding the amount.\\r\\n\",\n",
              "   {'entities': [[273, 275, 'PRECEDENT']]}],\n",
              "  ['\\r\\nDealing with the similar question, this Court in M/s Alopi Parshad & Sons Ltd. v. The Union of India [(1960) 2 SCR 793] observed that the eXtent of jurisdiction of the Court to set aside the award on the ground of an error in making the award is well defined and held thus:-\\r\\n',\n",
              "   {'entities': [[81, 83, 'PRECEDENT']]}],\n",
              "  ['\\r\\n\"The award of an arbitrator may be set aside on the ground of an error on the face thereof only when in the award or in any document incorporated with it, as for instance, a note appended by the arbitrators, stating the reasons for his decision, there is found some legal proposition which is the basis of the award and which is erroneous-Champsey Bhara and Company v. Jivaraj Balloo Spinning and Weaving Company Limited [L.R. 50 IA 324]. If however, a specific question is submitted to the arbitrator and he answers it, the fact that the answer involves an erroneous decision in point of law, does not make the award bad on its face so as to permit of its being set aside-In the matter of an arbitration between King and Duveen and others [LR (1913) 2 KBD 32] and Government of Kelantan v. Duff Development Company Limited [LR 1923 AC 395].\\r\\n',\n",
              "   {'entities': [[368, 370, 'PRECEDENT'], [790, 792, 'PRECEDENT']]}],\n",
              "  ['\\r\\nThereafter, the Court held that if there was a general reference and not a specific reference on any question of law then the award can be set aside if it demonstrated to be erroneous on the face of it. The Court, in that case, considering Section 56 of the Indian Contract Act held that the Indian Contract Act does not enable a party to a contract to ignore the eXpress provisions thereof and to claim payment of consideration for performance of the contract at rates different from the stipulated rates, on some vague plea of equity and that the arbitrators were not justified in ignoring the eXpressed terms of the contract prescribing the remuneration payable to the agents. The aforesaid law has been followed continuously. {Re. Rajasthan State Mines & Minerals Ltd. v. Eastern Engineering Enterprises and another [(1999) 9 SCC 283], Sikkim Subba Associates v. State of Sikkim [(2001) 5 SCC 629] and G.M., Northern Railway and another v. Sarvesh Chopra [(2002) 4\\r\\nSCC 45]}.\\r\\n\\r\\n',\n",
              "   {'entities': [[775, 777, 'PRECEDENT'],\n",
              "     [866, 868, 'PRECEDENT'],\n",
              "     [943, 945, 'PRECEDENT']]}],\n",
              "  ['\\r\\nThere is also elaborate discussion on this aspect in Union of India v. A.L. Rallia Ram [(1964) 3 SCR 164] wherein the Court succinctly observed as under:-\\r\\n\".. But it is now firmly established that an award is bad on the ground of error of law on the face of it, when in the award itself or in a document actually incorporated in it, there is found some legal proposition which is the basis of the award and which is erroneous. An error in law on the face of the award means : \"you can find in the award or a document actually incorporated thereto, as for instance, a note appended by the arbitrator stating the reasons for his judgment, some legal\\r\\nproposition which is the basis of the award and which you can then say is erroneous. It does not mean that if in a narrative a \\'reference is made to a contention of one party, that opens the door to setting first what that contention is, and then going to the contract on which the parties\\' rights depend to see if that contention is sound\" Champsey Bhara and Company v. Jivraj Balloo Spinning and Weaving Company Ltd. [(1932) L.R. 50 I.A. 324] But this rule does not apply where questions of law are specifically referred to the arbitrator for his decision; the award of the arbitrator on those questions is binding upon the parties, for by referring specific questions the parties desire to have a decision from the arbitrator on those questions rather than from the Court, and the Court will not unless it is satisfied that the arbitrator had proceeded illegally interfere with the decision.\"\\r\\n',\n",
              "   {'entities': [[70, 72, 'PRECEDENT'], [1020, 1022, 'PRECEDENT']]}],\n",
              "  ['\\r\\nThe Court thereafter referred to the decision rendered in Seth Thawardas Pherumal v. The Union of India [(1955) 2 SCR 48] wherein Bose, J. delivering the judgment of the Court had observed: \"Therefore, when a question of law is the point at issue, unless both sides specifically agree to refer it and agree to be bound by the arbitrator\\'s decision, the jurisdiction of the Courts to set an arbitration right when the error is apparent on the face of the award is not ousted. The mere fact that both parties submit incidental arguments about point of law in the course of the proceedings is not enough.\"\\r\\n',\n",
              "   {'entities': [[84, 86, 'PRECEDENT']]}],\n",
              "  ['\\r\\nThe learned Judge also observed at p. 59 after referring to F.R. Absalom Ltd. v. Great Western (London) Garden Village Society [1933] AC 592, 616:\\r\\n',\n",
              "   {'entities': [[80, 82, 'PRECEDENT']]}],\n",
              "  ['\\r\\nThe Court also referred to the test indicated by Lord Russell of Killowen in F.R. Absalom Ltd. v. Great Western (London) Garden Village Society Ltd., and observed that the said case adequately brings out a distinction between a specific reference on a question of law, and a question of law arising for determination by the arbitrator in the decision of the dispute. The Court quoted the following observations with approval: -\\r\\n\" .. it is, I think, essential to keep the case where disputes are referred to an arbitrator in the decision of which a question of law becomes material distinct from the case in which a specific question of law has been referred to him for decision. X X X X The authorities make a clear distinction between these two cases, and, as they appear to me, they decide that in the former case the Court can interfere if and when any error of law appears on the face of the award, but that in the latter case no such interference is possible upon the ground that it so appears that the decision upon the question of law is an erroneous one.\"\\r\\n',\n",
              "   {'entities': [[97, 99, 'PRECEDENT']]}],\n",
              "  ['\\r\\nFurther, in Maharashtra State Electricity Board v. Sterilite Industries (India) and Another [(2001) 8 SCC 482], the Court observed as under:-\\r\\n',\n",
              "   {'entities': [[50, 52, 'PRECEDENT']]}],\n",
              "  ['\\r\\n\"9. The position in law has been noticed by this Court in Union of India v. A.L. Rallia Ram [AIR 1963 SC 1685] and Madanlal Roshanlal Mahajan v. Hukumchand Mills Ltd. [(1967) 1 SCR 105] to the\\r\\neffect that the arbitrator\\'s award both on facts and law is final that there is no appeal from his verdict; that the court cannot review his award and correct any mistake in his adjudication, unless the objection to the legality of the award is apparent on the face of it. In understanding what would be an error of law on the face of the award, the following observations in Champsey Bhara & Co. v. Jivraj Balloo Spg and Wvg. Co. Ltd, [(1922-23) 50 IA 324] a decision of the Privy Council, are relevant (IA p.\\r\\n',\n",
              "   {'entities': [[75, 77, 'PRECEDENT'],\n",
              "     [144, 146, 'PRECEDENT'],\n",
              "     [593, 595, 'PRECEDENT']]}],\n",
              "  ['\\r\\n10. In Arosan Enterprises Ltd. v. Union of India [1999 (9) SCC 449], this Court again eXamined this matter and stated that where the error of finding of fact having a bearing on the award is patent and is easily demonstrable without the necessity of carefully weighing the various possible viewpoints, the interference in the award based on an erroneous finding of fact is permissible and similarly, if an award is based by applying a principle of law which is patently erroneous, and but for such erroneous application of legal principle, the award could not have been made, such award is liable to be set aside by holding that there has been a legal misconduct on the part of the arbitrator.\"\\r\\n',\n",
              "   {'entities': [[33, 35, 'PRECEDENT']]}],\n",
              "  ['\\r\\nIt is obvious that the interpretation of the Contract forms the fulcrum of the dispute between the\\r\\ntwo adversaries before us. As already mentioned, the power to interpret the Contract was reposed in\\r\\nthe Engineers as per Clause 5.2.1. of the Contract. The Engineers, on a thorougher and lucid\\r\\nexamination of the contract, have concluded that escalation was contractually payable on the\\r\\nContract itself as well as on any variation thereto. Even under the regime of the repealed Arbitration\\r\\nAct, 1940, their Lordships have opined in the celebrated Judgment of Sudarsan Trading Company\\r\\n-vs- Government of Kerala, (1989) 2 SCC 38 that -\"Once there is no dispute as to the contract, what\\r\\nis the interpretation of that contract, is a matter for the arbitrator on which the court cannot\\r\\nsubstitute its decision\". The continuity of this opinion is manifest from a reading of H.P. State\\r\\nElectricity Board -vs- R.J. Shah, (1999) 4 SCC 214 inasmuch the Court reiterated the position that -\\r\\n\"when the arbitrator is required to construe a contract then merely because another view may be\\r\\npossible the court would not have justified in construing the contract in a different manner and then\\r\\nto set aside the award by observing that the arbitrator has acceded the jurisdiction in making the\\r\\naward\". Numaligarh Refinery Limited -vs- Daelim Industrial Company Limited, (2007) 8 SCC 466\\r\\nrecords that with regard to the interpretation of a contract, the decision of the Arbitrator should not\\r\\nbe interfered with by the Court. After adverting to Tarapore & Company -vs- Cochin Shipyard\\r\\nLimited, (1984) 2 SCC 680, their Lordships recorded that there can be no quarrel with the\\r\\nproposition that - \"if a question of law is specifically referred to by the parties to the arbitrator for\\r\\ndecision, award of the arbitrator would be binding on the parties and court will have no jurisdiction\\r\\nto interfere with the award even on ground of error of law apparent on the face of award\". Very\\r\\nrecently, in McDermott International Inc. -vs- Burn Standard Co. Ltd., (2006) 11 SCC 181 after\\r\\nperusal of a plethora of precedents, their Lordships have enunciated this aspect of the law in the\\r\\nfollowing manner:-\\r\\n',\n",
              "   {'entities': [[590, 594, 'PRECEDENT'],\n",
              "     [906, 910, 'PRECEDENT'],\n",
              "     [1326, 1330, 'PRECEDENT'],\n",
              "     [1560, 1564, 'PRECEDENT'],\n",
              "     [2022, 2026, 'PRECEDENT']]}],\n",
              "  ['\\r\\n It is trite that the terms of the contract can be express or implied. The conduct of\\r\\nthe parties would also be a relevant factor in the matter of construction of a contract.\\r\\nThe construction of the contract agreement is within the jurisdiction of the\\r\\narbitrators having regard to the wide nature, scope and ambit of the arbitration\\r\\nagreement and they cannot be said to have misdirected themselves in passing the\\r\\naward by taking into consideration the conduct of the parties. It is also trite that\\r\\ncorrespondences exchanged by the parties are required to be taken into consideration\\r\\nfor the purpose of construction of a contract. Interpretation of a contract is a matter\\r\\nfor the arbitrator to determine, even if it gives rise to determination of a question of\\r\\nlaw. (See Pure Helium India (P) Ltd. v. ONGC, AIR 2003 SC 4519 and D.D. Sharma v.\\r\\nUnion of Indi, (2004) 5 SCC 325.)\\r\\n',\n",
              "   {'entities': [[808, 810, 'PRECEDENT'], [850, 852, 'PRECEDENT']]}],\n",
              "  ['\\r\\n10. The learned Additional Solicitor General has reiterated the argument made before the learned\\r\\nSingle Judge, which, succinctly stated, is that words cannot be added or taken away from a contract\\r\\nand the only permissible interpretation is a facial and literal interpretation of the terms delineated\\r\\nin the Contract itself. Our attention has been drawn towards State Bank of India -vs- Mula Sahakari\\r\\nSakhar Karkhana Ltd., (2006) 6 SCC 293 where it has been observed that documents \"must\\r\\nprimarily be construed on the basis of the terms and conditions contained therein. While construing\\r\\na document the court shall not supply any words which the author thereof did not use\". That very\\r\\nJudgment, however, notices that surrounding or attending circumstances can be taken into\\r\\nconsideration if ambiguity is encountered. In Provash Chandra Dalui -vs- Biswanath Banerjee, 1989\\r\\nSupp. (1) SCC 487, their Lordships have clarified that if the contract is to be construed with\\r\\nreference to its objects and the whole of its terms and that \"it is legitimate in order to ascertain the\\r\\ntrue meaning of the words used and if that be doubtful it is legitimate to have regard to the\\r\\ncircumstances surrounding their creation and the subject matter to which it was designed and\\r\\nintended they should apply\". For the sake of brevity, we shall refrain from discussing each\\r\\nprecedents cited by learned counsel for the parties as it would only be avoidable prolixity. We must\\r\\nconstantly be mindful of the fact that these dialectics are relevant before the Arbitral Tribunal.\\r\\n',\n",
              "   {'entities': [[386, 390, 'PRECEDENT'], [851, 855, 'PRECEDENT']]}],\n",
              "  [\"\\r\\nCountering the above submissions Mr. C. Mukund, learned counsel for Siemens referred to\\r\\nclauses of the PoA which authorised Siemens to receive monies on behalf of the JV which included\\r\\nthe share of TEKL. He submitted that if Siemens was authorised to receive monies on behalf of the\\r\\nJV then clearly it could raise the disputes in relation to the payment of such monies. Referring to the\\r\\ndecisions in Firm Hardayal Mal-Mohri Lal v. Firm Messrs. Kishan Gopal Jhanji & Sons AIR 1938\\r\\nLahore 673 and Tashi Delek Gaming Solutions Ltd. v. State of Karnataka (2006) 1 SCC 442, he\\r\\nsubmitted that in the present case although Siemens was an agent of the JV this was a case of an\\r\\n'agency coupled with interest' and, therefore, the ordinary rule under Section 203 of the ICA was\\r\\ninapplicable. It was submitted that as an agent coupled with interest, Siemens was entitled to make\\r\\na claim against PGCIL independently. Mr. Mukund also referred to the decision in A. Viswanatha\\r\\nPillai v. Special Tahsildar for Land Acquisition No. IV AIR 1991 SC 1966 to urge that even one\\r\\nco-owner could file a suit against strangers for recovery of the property in question. On the concept\\r\\nof a JV, reference was made to the decisions in Gammon India Limited v. Commissioner of\\r\\nCustoms, Mumbai (2011) 12 SCC 499, Faqir Chand Gulati v. Uppal Agencies Private Limited (2008)\\r\\n10 SCC 345 and New Horizons Limited (supra). Mr. Mukund placed reliance on the decision in\\r\\nChloro Controls (I) P. Ltd. v. Severn Trent Water Purification Inc. 2012 (9) SCALE 595.\\r\\n\",\n",
              "   {'entities': [[434, 436, 'PRECEDENT'],\n",
              "     [536, 538, 'PRECEDENT'],\n",
              "     [981, 983, 'PRECEDENT'],\n",
              "     [1242, 1244, 'PRECEDENT'],\n",
              "     [1316, 1318, 'PRECEDENT'],\n",
              "     [1478, 1480, 'PRECEDENT']]}],\n",
              "  ['\\r\\n The judgment referred by the petitioner i.e. Apple Valley Resort vs. H.P. State Electricity Board\\r\\nand Anr., 2004 (118) Company Cases 328 has no bearing in the facts and circumstances of the\\r\\npresent case since it relates to power of Board of Directors of a company under the Companies Act,\\r\\n1956. The respondent joint venture is neither a company incorporated under the Companies Act,\\r\\n1956 nor a registered partnership firm, rather it is a separate entity where the rights and obligations\\r\\nof the parties to the JV are governed by the Joint venture agreement and not by the provisions of\\r\\neither Companies Act, 1956. Similarly, another decision in Nibro Ltd. vs. National Insurance\\r\\nCompany Ltd., AIR 1991 Delhi 25, does not help the case of the petitioner as the said case pertains to\\r\\nthe provisions of Section 291 of the Companies Act, 1956. Thus the petitioner has accepted the\\r\\nauthority of Mr.H.G. Advani for the purpose of settlement of dispute.\\r\\n\\r\\n',\n",
              "   {'entities': [[68, 71, 'PRECEDENT'], [664, 667, 'PRECEDENT']]}]]}"
            ]
          },
          "metadata": {},
          "execution_count": 36
        }
      ]
    },
    {
      "cell_type": "code",
      "source": [
        "for text, annot in tqdm(P_DATA['annotations']):\n",
        "    doc = nlp.make_doc(text)\n",
        "    ents = []\n",
        "    for start, end, label in annot[\"entities\"]:\n",
        "        span = doc.char_span(start, end, label=label, alignment_mode=\"contract\")\n",
        "        if span is None:\n",
        "           print(\"Skipping entity\")\n",
        "        else:\n",
        "           ents.append(span)\n",
        "    doc.ents = ents\n",
        "    db.add(doc)\n",
        "\n",
        "db.to_disk(\"./training_data_precedent_02.spacy\")"
      ],
      "metadata": {
        "colab": {
          "base_uri": "https://localhost:8080/"
        },
        "id": "ufIYr6GZAYGc",
        "outputId": "a65e889e-8525-44b4-eaa7-056a387fdad8"
      },
      "execution_count": null,
      "outputs": [
        {
          "output_type": "stream",
          "name": "stderr",
          "text": [
            "100%|██████████| 36/36 [00:00<00:00, 519.34it/s]\n"
          ]
        }
      ]
    },
    {
      "cell_type": "code",
      "source": [
        "! python -m spacy init config config.cfg --lang en --pipeline ner --optimize efficiency"
      ],
      "metadata": {
        "colab": {
          "base_uri": "https://localhost:8080/"
        },
        "id": "-cDv80HVQbhC",
        "outputId": "29c5cc84-4d0f-430d-852b-c6d6f37c42a1"
      },
      "execution_count": null,
      "outputs": [
        {
          "output_type": "stream",
          "name": "stdout",
          "text": [
            "2022-10-03 10:54:34.560152: E tensorflow/stream_executor/cuda/cuda_driver.cc:271] failed call to cuInit: CUDA_ERROR_NO_DEVICE: no CUDA-capable device is detected\n",
            "\n",
            "\u001b[38;5;1m✘ The provided output file already exists. To force overwriting the\n",
            "config file, set the --force or -F flag.\u001b[0m\n",
            "\n"
          ]
        }
      ]
    },
    {
      "cell_type": "code",
      "source": [
        "! python -m spacy train config.cfg --output ./ --paths.train ./training_data_precedent_02.spacy --paths.dev ./training_data_precedent_02.spacy"
      ],
      "metadata": {
        "colab": {
          "base_uri": "https://localhost:8080/"
        },
        "id": "LE1BrqYwS1c4",
        "outputId": "bca5ebcf-987c-4063-a9ea-435a490bfa77"
      },
      "execution_count": null,
      "outputs": [
        {
          "output_type": "stream",
          "name": "stdout",
          "text": [
            "2022-10-03 10:54:51.346712: E tensorflow/stream_executor/cuda/cuda_driver.cc:271] failed call to cuInit: CUDA_ERROR_NO_DEVICE: no CUDA-capable device is detected\n",
            "\u001b[38;5;4mℹ Saving to output directory: .\u001b[0m\n",
            "\u001b[38;5;4mℹ Using CPU\u001b[0m\n",
            "\u001b[1m\n",
            "=========================== Initializing pipeline ===========================\u001b[0m\n",
            "[2022-10-03 10:54:52,086] [INFO] Set up nlp object from config\n",
            "INFO:spacy:Set up nlp object from config\n",
            "[2022-10-03 10:54:52,103] [INFO] Pipeline: ['tok2vec', 'ner']\n",
            "INFO:spacy:Pipeline: ['tok2vec', 'ner']\n",
            "[2022-10-03 10:54:52,107] [INFO] Created vocabulary\n",
            "INFO:spacy:Created vocabulary\n",
            "[2022-10-03 10:54:52,108] [INFO] Finished initializing nlp object\n",
            "INFO:spacy:Finished initializing nlp object\n",
            "[2022-10-03 10:54:52,908] [INFO] Initialized pipeline components: ['tok2vec', 'ner']\n",
            "INFO:spacy:Initialized pipeline components: ['tok2vec', 'ner']\n",
            "\u001b[38;5;2m✔ Initialized pipeline\u001b[0m\n",
            "\u001b[1m\n",
            "============================= Training pipeline =============================\u001b[0m\n",
            "\u001b[38;5;4mℹ Pipeline: ['tok2vec', 'ner']\u001b[0m\n",
            "\u001b[38;5;4mℹ Initial learn rate: 0.001\u001b[0m\n",
            "E    #       LOSS TOK2VEC  LOSS NER  ENTS_F  ENTS_P  ENTS_R  SCORE \n",
            "---  ------  ------------  --------  ------  ------  ------  ------\n",
            "  0       0          0.00     47.33    0.00    0.00    0.00    0.00\n",
            "  2     200         15.21   1668.35   97.73   95.57  100.00    0.98\n",
            "  4     400         11.15     43.92   97.94   97.94   97.94    0.98\n",
            "  6     600         20.05     39.34   97.97   96.50   99.48    0.98\n",
            "  8     800         14.86     36.15   97.46   96.00   98.97    0.97\n",
            " 10    1000         19.76     31.46   97.73   95.57  100.00    0.98\n",
            " 12    1200         22.21     42.81   96.86   98.40   95.36    0.97\n",
            " 14    1400         19.35     41.24   97.73   95.57  100.00    0.98\n",
            " 16    1600         21.55     45.17   97.73   95.57  100.00    0.98\n",
            " 19    1800         16.27     35.66   98.21   97.46   98.97    0.98\n",
            " 22    2000         30.84     47.95   97.73   95.57  100.00    0.98\n",
            " 25    2200         29.09     57.84   97.73   95.57  100.00    0.98\n",
            " 28    2400         40.13     65.51   98.21   97.46   98.97    0.98\n",
            " 33    2600         59.81     71.77   97.38   98.94   95.88    0.97\n",
            " 39    2800         45.08     93.83   98.21   97.46   98.97    0.98\n",
            " 46    3000         63.07    115.21   97.10   99.46   94.85    0.97\n",
            " 54    3200         84.73    123.26   98.21   97.46   98.97    0.98\n",
            " 63    3400         77.92    127.60   97.73   95.57  100.00    0.98\n",
            "\u001b[38;5;2m✔ Saved pipeline to output directory\u001b[0m\n",
            "model-last\n"
          ]
        }
      ]
    },
    {
      "cell_type": "code",
      "source": [
        "nlp_ner = spacy.load(\"/content/model-last\")"
      ],
      "metadata": {
        "id": "JRCYPtM2S-fx"
      },
      "execution_count": null,
      "outputs": []
    },
    {
      "cell_type": "code",
      "source": [
        "import pickle"
      ],
      "metadata": {
        "id": "3i2OQX02T8kE"
      },
      "execution_count": null,
      "outputs": []
    },
    {
      "cell_type": "code",
      "source": [
        "with open('model_precedent2_pickle', 'wb') as f:\n",
        "  pickle.dump(nlp_ner, f)"
      ],
      "metadata": {
        "id": "OP9p6_WWT_0F"
      },
      "execution_count": null,
      "outputs": []
    },
    {
      "cell_type": "code",
      "source": [
        "with open(\"/content/test_file5.txt\") as f1:\n",
        "  x = f1.read()"
      ],
      "metadata": {
        "id": "eHZHZjODUEg5"
      },
      "execution_count": null,
      "outputs": []
    },
    {
      "cell_type": "code",
      "source": [
        "doc1 = nlp_ner(x)"
      ],
      "metadata": {
        "id": "pJb_8Ib-Uaby"
      },
      "execution_count": null,
      "outputs": []
    },
    {
      "cell_type": "code",
      "source": [
        "spacy.displacy.render(doc1, style=\"ent\", jupyter=True)"
      ],
      "metadata": {
        "colab": {
          "base_uri": "https://localhost:8080/",
          "height": 297
        },
        "id": "Bgm4Jvm-UcSj",
        "outputId": "1fa805f0-02db-4c7a-c8da-efe659ce5a57"
      },
      "execution_count": null,
      "outputs": [
        {
          "output_type": "display_data",
          "data": {
            "text/plain": [
              "<IPython.core.display.HTML object>"
            ],
            "text/html": [
              "<span class=\"tex2jax_ignore\"><div class=\"entities\" style=\"line-height: 2.5; direction: ltr\"></br>10.\tIn all these cases the ApeX Court observed that Chief Justice or any person or institution designated by him, acting under Section 11 of the Act, acted in an administrative capacity and that the order of the Chief Justice or his designate in eXercise of the power under Section 11 of the Act was an administrative order. Two Judges Bench of the ApeX Court in the case of Konkan Railway Corporation \n",
              "<mark class=\"entity\" style=\"background: #ddd; padding: 0.45em 0.6em; margin: 0 0.25em; line-height: 1; border-radius: 0.35em;\">\n",
              "    v.\n",
              "    <span style=\"font-size: 0.8em; font-weight: bold; line-height: 1; border-radius: 0.35em; vertical-align: middle; margin-left: 0.5rem\">PRECEDENT</span>\n",
              "</mark>\n",
              " Rani Construction Ltd. (Supra) referred the matter to a Larger Bench, the decision of the three Judges Bench in Konkan Railways Corporation Ltd. \n",
              "<mark class=\"entity\" style=\"background: #ddd; padding: 0.45em 0.6em; margin: 0 0.25em; line-height: 1; border-radius: 0.35em;\">\n",
              "    v.\n",
              "    <span style=\"font-size: 0.8em; font-weight: bold; line-height: 1; border-radius: 0.35em; vertical-align: middle; margin-left: 0.5rem\">PRECEDENT</span>\n",
              "</mark>\n",
              " Mehul Construction Co.(Supra) wherein it was held that no writ would lie against the order passed by the Chief Justice directing appointment of an arbitrator under Section 11 of the Act in as much as such orders are administrative in nature, even if they contain reasons and decision on certain preliminary issues raised by the party at the stage of appointment. Reference by the two Judges Bench has now been answered by the Constitution Bench of the ApeX Court wherein in a way the decision of M/\n",
              "<mark class=\"entity\" style=\"background: #ddd; padding: 0.45em 0.6em; margin: 0 0.25em; line-height: 1; border-radius: 0.35em;\">\n",
              "    s.\n",
              "    <span style=\"font-size: 0.8em; font-weight: bold; line-height: 1; border-radius: 0.35em; vertical-align: middle; margin-left: 0.5rem\">PRECEDENT</span>\n",
              "</mark>\n",
              " Mehul Construction Co.(Supra) has been approved by the Construction Bench.</br></div></span>"
            ]
          },
          "metadata": {}
        }
      ]
    },
    {
      "cell_type": "code",
      "source": [],
      "metadata": {
        "id": "GtvJnJoFUd48"
      },
      "execution_count": null,
      "outputs": []
    }
  ]
}