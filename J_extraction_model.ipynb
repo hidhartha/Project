{
  "nbformat": 4,
  "nbformat_minor": 0,
  "metadata": {
    "colab": {
      "provenance": []
    },
    "kernelspec": {
      "name": "python3",
      "display_name": "Python 3"
    },
    "language_info": {
      "name": "python"
    }
  },
  "cells": [
    {
      "cell_type": "code",
      "execution_count": null,
      "metadata": {
        "id": "FEPOYX6bbR6_"
      },
      "outputs": [],
      "source": [
        "!pip install -U spacy -q"
      ]
    },
    {
      "cell_type": "code",
      "source": [
        "import spacy\n",
        "from spacy.tokens import DocBin\n",
        "from tqdm import tqdm\n",
        "nlp = spacy.blank(\"en\")\n",
        "db = DocBin()"
      ],
      "metadata": {
        "id": "NbQdRIEGbeoS"
      },
      "execution_count": null,
      "outputs": []
    },
    {
      "cell_type": "code",
      "source": [
        "from google.colab import drive\n",
        "drive.mount('/content/drive')"
      ],
      "metadata": {
        "colab": {
          "base_uri": "https://localhost:8080/"
        },
        "id": "RdLuJz7gbeqw",
        "outputId": "c40916d2-d476-4b20-ec2d-e04f4a181cd4"
      },
      "execution_count": null,
      "outputs": [
        {
          "output_type": "stream",
          "name": "stdout",
          "text": [
            "Drive already mounted at /content/drive; to attempt to forcibly remount, call drive.mount(\"/content/drive\", force_remount=True).\n"
          ]
        }
      ]
    },
    {
      "cell_type": "code",
      "source": [
        "import json\n",
        "f = open('/content/drive/MyDrive/Colab Notebooks/MTP after 15/JUDGEMENT_EXTRACTION/annotations_judgement.json')\n",
        "J_DATA = json.load(f)"
      ],
      "metadata": {
        "id": "DYVyxBEmbetS"
      },
      "execution_count": null,
      "outputs": []
    },
    {
      "cell_type": "code",
      "source": [
        "J_DATA"
      ],
      "metadata": {
        "colab": {
          "base_uri": "https://localhost:8080/"
        },
        "id": "p33m_X4Ybev1",
        "outputId": "fe7f5c9b-b44f-4404-c53d-035e8c05f7a7"
      },
      "execution_count": null,
      "outputs": [
        {
          "output_type": "execute_result",
          "data": {
            "text/plain": [
              "{'classes': ['COSTS',\n",
              "  'DISPOSED OF',\n",
              "  'APPEAL IS ALLOWED',\n",
              "  'CANNOT BE SUSTAINED',\n",
              "  'DISMISSED',\n",
              "  'APPEAL IS DISMISSED'],\n",
              " 'annotations': [['The petition is disposed of in the above terms. All pending applications are also disposed of.\\r\\nParties to bear their own costs\\r\\n',\n",
              "   {'entities': [[16, 27, 'DISPOSED OF'],\n",
              "     [82, 94, 'DISPOSED OF'],\n",
              "     [122, 127, 'COSTS']]}],\n",
              "  ['\\r\\n\\r\\nIn view of the foregoing discussion, we set aside the judgment and order dated 12.01.2015\\r\\npassed by the High Court. The appeal is allowed\\r\\n',\n",
              "   {'entities': [[125, 142, 'APPEAL IS ALLOWED']]}],\n",
              "  ['\\r\\n\\r\\nThe impugned award cannot be sustained and the same is set aside. The disputes are remitted to the\\r\\nTribunal for fresh adjudication in accordance with law on basis of cogent evidence including\\r\\ncontemporaneous records.Certified copy of this order, if applied for, be supplied to the parties subject to compliance of all\\r\\nrequisite formalities\\r\\n',\n",
              "   {'entities': [[23, 42, 'CANNOT BE SUSTAINED']]}],\n",
              "  ['\\r\\n\\r\\nFor the reasons stated above, the impugned award directing the appellant to refund US $\\r\\n3,04,970.20 and Rs.15,75,559/- with interest which were deducted for the breach of contract as per\\r\\nthe agreement requires to be set aside and is hereby set aside. The appeal is allowed accordingly.\\r\\nThere shall be no order as to costs\\r\\n',\n",
              "   {'entities': [[261, 278, 'APPEAL IS ALLOWED'], [323, 328, 'COSTS']]}],\n",
              "  ['\\r\\n\\r\\nFor the foregoing reasons, there exists no ground to interfere with the findings of the Arbitral\\r\\nTribunals. Both the petitions are hereby dismissed with no order as to costs\\r\\n',\n",
              "   {'entities': [[143, 152, 'DISMISSED'], [173, 178, 'COSTS']]}],\n",
              "  ['\\r\\n\\r\\nWe do not find any merit in the appeal. Hence, no grounds are made out to interfere in the\\r\\nimpugned order passed by learned Single Judge under Section 34 of the Arbitration and\\r\\nConciliation Act, 1996. Resultantly, the appeal is dismissed. Both the applications stands disposed of, in view of the order passed in the appeal\\r\\n',\n",
              "   {'entities': [[224, 244, 'APPEAL IS DISMISSED'],\n",
              "     [274, 285, 'DISPOSED OF']]}],\n",
              "  ['\\r\\n\\r\\nIn the result, this appeal shall stand dismissed. However, there shall be no order as to costs.\\r\\nConsequently, connected miscellaneous petition is also closed\\r\\n',\n",
              "   {'entities': [[43, 61, 'DISMISSED'], [93, 99, 'COSTS']]}],\n",
              "  ['\\r\\nIn view of the above, the appeal filed by the appellants is allowed. The award passed by the\\r\\narbitrator on 05.09.2001 and corrected on 22.09.2001 as well as the order dated 12.12.2003 passed\\r\\nby the learned Ad hoc Additional District Judge No. 2, Kamrup, Guwahati in Misc. (Arbitration)\\r\\nCase No. 590/2001, are set aside. The arbitration proceeding is remitted back to the learned\\r\\narbitrator for reconsideration of the counter-claims of the respondents and for passing an award by\\r\\nmaking necessary adjustment of the amount payable to the contractor/claimant against his Claim\\r\\nNos. 2, 4, 6, 7, 8, 9 and 13 in terms of the finding recorded by this Court. Considering the facts and\\r\\ncircumstances of the case, we leave the parties to bear their own cost.\\r\\n',\n",
              "   {'entities': [[48, 70, 'APPEAL IS ALLOWED'], [752, 756, 'COSTS']]}],\n",
              "  ['\\r\\n\\r\\nTherefore, I do not find any reason to interfere with the Arbitral Award..In the result, the Petition to set aside the Arbitral Award is dismissed.\\r\\n',\n",
              "   {'entities': [[141, 150, 'DISMISSED']]}],\n",
              "  ['\\r\\n\\r\\nIn the result, the impugned judgment is modified to the extent that the amount awarded by the\\r\\nArbitrator against claim nos. 3 and 4 stands allowed in favour of the contractor-Indian Builders.With these findings, the Arbitration Appeal No. 19 of 2007 is allowed and Arbitration Appeal No. 18\\r\\nof 2007 is dismissed.\\r\\n',\n",
              "   {'entities': [[233, 265, 'APPEAL IS ALLOWED'], [308, 317, 'DISMISSED']]}],\n",
              "  ['\\r\\n\\r\\nThus, this Court is inclined to interfere with the award to the extent indicated above as it is a fit\\r\\ncase to exercise the power under Section 34 of the Arbitration and Conciliation Act, 1996, in the\\r\\nlight of the law laid down by the Apex Court in OIL & NATURAL GAS CORPORATION LTD., V.\\r\\nSAW PIPES LTD., ((2003) 5 Supreme Court Cases 705) and ASSOCIATE BUILDERS V. DELHI\\r\\nDEVELOPMENT AUTHORITY ((2015) 3 Supreme Court Cases 49). Accordingly, this original\\r\\npetition stands allowed except item No.3 dealing with the profit for reduced scope of work, while\\r\\ngiving liberty to the respondent raise a claim for Item No.6 through a separate and independent\\r\\nproceeding. No costs.\\r\\n',\n",
              "   {'entities': [[674, 679, 'COSTS']]}],\n",
              "  ['\\r\\n\\r\\nThe appeal is, accordingly, allowed. The impugned order dated December 8, 2006 passed by the\\r\\nChief Justice of the High Court of Punjab and Haryana is set aside. The parties shall bear their own\\r\\ncosts\\r\\n',\n",
              "   {'entities': [[8, 40, 'APPEAL IS ALLOWED'], [200, 205, 'COSTS']]}],\n",
              "  ['\\r\\n\\r\\nThe impugned award cannot be sustained and the same is set aside. The disputes are remitted to the\\r\\nTribunal for fresh adjudication in accordance with law on basis of cogent evidence including\\r\\ncontemporaneous records\\r\\n',\n",
              "   {'entities': [[23, 42, 'CANNOT BE SUSTAINED']]}],\n",
              "  ['\\r\\n\\r\\n In the result, we allow this appeal and set aside the judgment and order passed by the learned\\r\\nSingle Judge and also the award made by the arbitrators to the extent the award fails to quantify the\\r\\nexact amount payable to the respondent towards the alleged cost incurred by it on account of the\\r\\nrevised Seigniorage fee payable to the Government of Tamil Nadu. Consequently, the matter shall\\r\\nstand remitted back to the arbitrator but only on the limited issue of quantification of the amount.\\r\\nThe parties shall be provided an additional opportunity to adduce evidence on the question of\\r\\nquantification of the amount before making a fresh award. We make it clear that since the dispute\\r\\nbetween the respondent/claimant and the Government of Tamilnadu as to the rate of Seigniorage\\r\\nfee is pending, the arbitrators shall be free to determine the amount, if any actually paid by the\\r\\nrespondent, subject to the stipulation that in case the Government refunds the excess amount or any\\r\\npart of the same, any such refund shall ensure for the benefit of the appellant. No costs\\r\\n',\n",
              "   {'entities': [[1075, 1080, 'COSTS']]}],\n",
              "  ['\\r\\n\\r\\nThe appeal is disposed of in the aforesaid terms. There shall be no order as to costs.\\r\\n',\n",
              "   {'entities': [[18, 29, 'DISPOSED OF'], [84, 89, 'COSTS']]}],\n",
              "  ['\\r\\n\\r\\nSh. Amit Punj advocate for the respondent. Vide my separate detailed order dictated and announced\\r\\nin the open court but not yet typed, the objections under Section 34 of the Arbitration and\\r\\nConciliation Act filed by the petitioner are hereby dismissed. Parties to bear their own costs. File be\\r\\nconsigned to Record Room\\r\\n',\n",
              "   {'entities': [[248, 258, 'DISMISSED'], [285, 291, 'COSTS']]}],\n",
              "  ['\\r\\n\\r\\nIn the result, the original petition is partly allowed. Inasmuch as the award has been partly\\r\\nconfirmed and as the contract has already been terminated, the Contractor is entitled to withdraw\\r\\nthe bank guarantee from the bank. Consequently, the original applications are closed\\r\\n',\n",
              "   {'entities': [[44, 59, 'APPEAL IS ALLOWED']]}],\n",
              "  ['\\r\\n\\r\\nThe above infirmities in the award are clearly of the kind, considered to be beyond jurisdiction of\\r\\nthe arbitrator, as contrary the contract; therefore, falling within the scope of judicial intervention\\r\\naccording to the law declared in Saw Pipes (supra) and the subsequent rulings of the Supreme\\r\\nCourt. The petition therefore, deserves to succeed. OMP 355/2004 is accordingly, allowed; the\\r\\nimpugned award of the sole Arbitrator dated 24th April, 2003 whereby the claim was O.M.P.\\r\\n355/2004 11 of 12 allowed to the extent of Rs. 2,30,000/-, in favour of the respondent Contractor\\r\\nwith interest at 15% per annum, is hereby set aside. In the circumstances, the parties shall bear their\\r\\nown costs.\\r\\n',\n",
              "   {'entities': [[697, 702, 'COSTS']]}],\n",
              "  ['\\r\\n\\r\\nFor the aforementioned reasons, the petition is dismissed but in the circumstances with no order\\r\\nas to costs\\r\\n',\n",
              "   {'entities': [[52, 61, 'DISMISSED'], [108, 113, 'COSTS']]}],\n",
              "  ['\\r\\n\\r\\nFor the reasons aforementioned, we are of the opinion that there is no infirmity in the impugned\\r\\njudgment. This appeal is, therefore, dismissed. No Costs\\r\\n',\n",
              "   {'entities': [[139, 149, 'DISMISSED'], [153, 158, 'COSTS']]}],\n",
              "  ['\\r\\n\\r\\nFor the aforesaid reasons, these Petitions are allowed and the Arbitral Awards are hereby set\\r\\naside partly as regards the amounts http://www.judis.nic.in 18 of 20 O.P.Nos.87 & 88 of 2014, 168\\r\\nof 2015 & 446 of 2016 awarded against the claims for idling of men and materials, overheads,\\r\\nenhanced rate of 20% during the extended period, loss of profits and pre- reference and pendente\\r\\nlite interest. No costs\\r\\n',\n",
              "   {'entities': [[37, 58, 'APPEAL IS ALLOWED'], [408, 413, 'COSTS']]}],\n",
              "  ['\\r\\n\\r\\nThe batch of appeals are accordingly disposed of on the terms indicated. No costs.\\r\\nPending application(s), if any, stand disposed of\\r\\n',\n",
              "   {'entities': [[41, 52, 'DISPOSED OF'],\n",
              "     [80, 86, 'COSTS'],\n",
              "     [126, 137, 'DISPOSED OF']]}],\n",
              "  ['\\r\\n\\r\\nThe appeals are disposed of in aforesaid terms, without any order as to costs\\r\\n',\n",
              "   {'entities': [[20, 31, 'DISPOSED OF'], [76, 81, 'COSTS']]}],\n",
              "  ['\\r\\n\\r\\nAccordingly, the mandate of the three-member arbitral tribunal constituted under the ICA Rules on\\r\\n05.12.2015 stands terminated. The Sole Arbitrator shall proceed in continuation of the previously\\r\\nconstituted arbitral tribunal. The material already on record shall be deemed to have been received\\r\\nby the Sole Arbitrator.The Appeal is disposed of accordingly.\\r\\n',\n",
              "   {'entities': [[340, 351, 'DISPOSED OF']]}],\n",
              "  ['\\r\\n\\r\\nIn the result, the impugned judgments dated 15.05.2015 and 02.02.2015 of the High Court of\\r\\nDelhi in Arbitration Petition No.168 of 2015 and Arbitration Petition No.531 of 2014 are set aside\\r\\nand these appeals are allowed. The appellant is directed to appoint the arbitrator in terms of Clause\\r\\n64(3) of the agreement within a period of one month from today under intimation to the\\r\\nrespondent(s)- contractors. As soon as the communication of the appointment of arbitrator is made\\r\\nto the respondent(s), the statement of claim be filed by the respondent(s) within six weeks thereafter\\r\\nand the reply of the appellant to be filed within four weeks thereafter. The arbitrator shall proceed\\r\\nwith the matter in accordance with law and decide the claim after affording sufficient opportunity of\\r\\nhearing to both parties expeditiously preferably within a period of four months\\r\\n',\n",
              "   {'entities': [[206, 226, 'APPEAL IS ALLOWED']]}],\n",
              "  ['\\r\\n\\r\\nSince the petitioner failed to perform the function entrusted to it the aggrieved party i.e.\\r\\nrespondent herein approached the Chief Justice under Section 11 of the Act and the designate of the\\r\\nChief Justice appointed the arbitrator keeping in view his qualification, independence and\\r\\ncapability. We see no reason to interfere with the same. With the above observation writ petitions\\r\\nare dismissed but with no order as to costs.\\r\\n',\n",
              "   {'entities': [[395, 404, 'DISMISSED'], [429, 434, 'COSTS']]}],\n",
              "  ['\\r\\n\\r\\nThis writ petition is accordingly devoid of any merit and is, therefore, dismissed.\\r\\nThe parties shall, however, bear their own costs.\\r\\n',\n",
              "   {'entities': [[77, 87, 'DISMISSED'], [132, 137, 'COSTS']]}],\n",
              "  ['\\r\\n\\r\\nIn the result, the appeals are dismissed. No order as to costs.\\r\\n',\n",
              "   {'entities': [[35, 45, 'DISMISSED'], [61, 66, 'COSTS']]}],\n",
              "  ['\\r\\n\\r\\nSince the petitioner failed to perform the function entrusted to it the aggrieved party i.e.\\r\\nrespondent herein approached the Chief Justice under Section 11 of the Act and the designate of the\\r\\nChief Justice appointed the arbitrator keeping in view his qualification, independence and\\r\\ncapability. We see no reason to interfere with the same. With the above observation writ petitions\\r\\nare dismissed but with no order as to costs.\\r\\n',\n",
              "   {'entities': [[395, 404, 'DISMISSED'], [429, 434, 'COSTS']]}],\n",
              "  ['\\r\\n\\r\\nFor the aforesaid reasons, we allow the appeal and set aside the order passed by the High Court in\\r\\nARB No. 23 of 2005. No costs\\r\\n',\n",
              "   {'entities': [[34, 50, 'APPEAL IS ALLOWED'], [127, 132, 'COSTS']]}],\n",
              "  ['\\r\\n\\r\\nIn the result, the impugned orders dated 03.01.2019 and 29.03.2019 passed by the High Court of\\r\\nJudicature at Allahabad in Arbitration Application No.151 of 2018 are set aside and these appeals\\r\\nare allowed. The appellant is directed to send a fresh panel of four retired officers in terms of Clause\\r\\n64(3)(b) of the General Conditions of Contract within a period of thirty days from today under\\r\\nintimation to the respondent-contractor. The respondent- contractor shall select two from the four\\r\\nsuggested names and communicate to the appellant within thirty days from the date of receipt of the\\r\\nnames of the nominees. Upon receipt of the communication from the respondent, the appellant\\r\\nshall constitute the Arbitral Tribunal in terms of Clause 64(3)(b) of the General Conditions of\\r\\nContract within thirty days from the date of the receipt of the communication from the respondent.\\r\\nParties to bear their respective costs.\\r\\n',\n",
              "   {'entities': [[190, 211, 'APPEAL IS ALLOWED'], [925, 930, 'COSTS']]}],\n",
              "  ['\\r\\n\\r\\nThe petition is disposed of in the above terms with no order as to costs.\\r\\n',\n",
              "   {'entities': [[20, 31, 'DISPOSED OF'], [71, 76, 'COSTS']]}]]}"
            ]
          },
          "metadata": {},
          "execution_count": 7
        }
      ]
    },
    {
      "cell_type": "code",
      "source": [
        "for text, annot in tqdm(J_DATA['annotations']):\n",
        "    doc = nlp.make_doc(text)\n",
        "    ents = []\n",
        "    for start, end, label in annot[\"entities\"]:\n",
        "        span = doc.char_span(start, end, label=label, alignment_mode=\"contract\")\n",
        "        if span is None:\n",
        "           print(\"Skipping entity\")\n",
        "        else:\n",
        "           ents.append(span)\n",
        "    doc.ents = ents\n",
        "    db.add(doc)\n",
        "\n",
        "db.to_disk(\"./training_data_precedent_02_Judgement.spacy\")"
      ],
      "metadata": {
        "colab": {
          "base_uri": "https://localhost:8080/"
        },
        "id": "F4hMLyTBbeyn",
        "outputId": "33852703-2ea4-43e1-e893-8829b2394f51"
      },
      "execution_count": null,
      "outputs": [
        {
          "output_type": "stream",
          "name": "stderr",
          "text": [
            "100%|██████████| 32/32 [00:00<00:00, 1743.04it/s]\n"
          ]
        }
      ]
    },
    {
      "cell_type": "code",
      "source": [
        "! python -m spacy init config config.cfg --lang en --pipeline ner --optimize efficiency"
      ],
      "metadata": {
        "colab": {
          "base_uri": "https://localhost:8080/"
        },
        "id": "l9T4P_9obe3f",
        "outputId": "d9acd839-b975-4937-ef32-1c9edfc47245"
      },
      "execution_count": null,
      "outputs": [
        {
          "output_type": "stream",
          "name": "stdout",
          "text": [
            "2022-10-05 14:00:16.126612: E tensorflow/stream_executor/cuda/cuda_driver.cc:271] failed call to cuInit: CUDA_ERROR_NO_DEVICE: no CUDA-capable device is detected\n",
            "\u001b[38;5;3m⚠ To generate a more effective transformer-based config (GPU-only),\n",
            "install the spacy-transformers package and re-run this command. The config\n",
            "generated now does not use transformers.\u001b[0m\n",
            "\u001b[38;5;4mℹ Generated config template specific for your use case\u001b[0m\n",
            "- Language: en\n",
            "- Pipeline: ner\n",
            "- Optimize for: efficiency\n",
            "- Hardware: CPU\n",
            "- Transformer: None\n",
            "\u001b[38;5;2m✔ Auto-filled config with all values\u001b[0m\n",
            "\u001b[38;5;2m✔ Saved config\u001b[0m\n",
            "config.cfg\n",
            "You can now add your data and train your pipeline:\n",
            "python -m spacy train config.cfg --paths.train ./train.spacy --paths.dev ./dev.spacy\n"
          ]
        }
      ]
    },
    {
      "cell_type": "code",
      "source": [
        "! python -m spacy train config.cfg --output ./ --paths.train ./training_data_precedent_02_Judgement.spacy --paths.dev ./training_data_precedent_02_Judgement.spacy"
      ],
      "metadata": {
        "colab": {
          "base_uri": "https://localhost:8080/"
        },
        "id": "fCREOy6bbe6J",
        "outputId": "2a4497cc-17c0-4742-9a61-201f64d02a98"
      },
      "execution_count": null,
      "outputs": [
        {
          "output_type": "stream",
          "name": "stdout",
          "text": [
            "2022-10-05 14:00:50.252859: E tensorflow/stream_executor/cuda/cuda_driver.cc:271] failed call to cuInit: CUDA_ERROR_NO_DEVICE: no CUDA-capable device is detected\n",
            "\u001b[38;5;4mℹ Saving to output directory: .\u001b[0m\n",
            "\u001b[38;5;4mℹ Using CPU\u001b[0m\n",
            "\u001b[1m\n",
            "=========================== Initializing pipeline ===========================\u001b[0m\n",
            "[2022-10-05 14:00:51,022] [INFO] Set up nlp object from config\n",
            "INFO:spacy:Set up nlp object from config\n",
            "[2022-10-05 14:00:51,036] [INFO] Pipeline: ['tok2vec', 'ner']\n",
            "INFO:spacy:Pipeline: ['tok2vec', 'ner']\n",
            "[2022-10-05 14:00:51,042] [INFO] Created vocabulary\n",
            "INFO:spacy:Created vocabulary\n",
            "[2022-10-05 14:00:51,043] [INFO] Finished initializing nlp object\n",
            "INFO:spacy:Finished initializing nlp object\n",
            "[2022-10-05 14:00:51,322] [INFO] Initialized pipeline components: ['tok2vec', 'ner']\n",
            "INFO:spacy:Initialized pipeline components: ['tok2vec', 'ner']\n",
            "\u001b[38;5;2m✔ Initialized pipeline\u001b[0m\n",
            "\u001b[1m\n",
            "============================= Training pipeline =============================\u001b[0m\n",
            "\u001b[38;5;4mℹ Pipeline: ['tok2vec', 'ner']\u001b[0m\n",
            "\u001b[38;5;4mℹ Initial learn rate: 0.001\u001b[0m\n",
            "E    #       LOSS TOK2VEC  LOSS NER  ENTS_F  ENTS_P  ENTS_R  SCORE \n",
            "---  ------  ------------  --------  ------  ------  ------  ------\n",
            "  0       0          0.00     74.46    0.00    0.00    0.00    0.00\n",
            "  4     200       1599.92   1715.31   74.34   73.68   75.00    0.74\n",
            " 10     400        148.07    261.67   90.27   89.47   91.07    0.90\n",
            " 16     600         53.17     68.12  100.00  100.00  100.00    1.00\n",
            " 23     800          0.02      0.01  100.00  100.00  100.00    1.00\n",
            " 32    1000          0.09      0.06  100.00  100.00  100.00    1.00\n",
            " 42    1200          2.61      1.64  100.00  100.00  100.00    1.00\n",
            " 56    1400         20.52     12.32  100.00  100.00  100.00    1.00\n",
            " 73    1600         13.45      5.45  100.00  100.00  100.00    1.00\n",
            " 94    1800          5.60      2.22  100.00  100.00  100.00    1.00\n",
            "121    2000          0.00      0.00  100.00  100.00  100.00    1.00\n",
            "153    2200         67.79     12.23  100.00  100.00  100.00    1.00\n",
            "\u001b[38;5;2m✔ Saved pipeline to output directory\u001b[0m\n",
            "model-last\n"
          ]
        }
      ]
    },
    {
      "cell_type": "code",
      "source": [
        "nlp_ner = spacy.load(\"/content/model-last\")"
      ],
      "metadata": {
        "id": "xhq88ekube8k"
      },
      "execution_count": null,
      "outputs": []
    },
    {
      "cell_type": "code",
      "source": [
        "import pickle"
      ],
      "metadata": {
        "id": "LQzuBRYcbrBU"
      },
      "execution_count": null,
      "outputs": []
    },
    {
      "cell_type": "code",
      "source": [
        "with open('model_precedent2_pickle_Judgement', 'wb') as f:\n",
        "  pickle.dump(nlp_ner, f)"
      ],
      "metadata": {
        "id": "w6ShKpS_brDs"
      },
      "execution_count": null,
      "outputs": []
    },
    {
      "cell_type": "code",
      "source": [
        "with open(\"/content/jtest01.txt\") as f1:\n",
        "  x = f1.read()"
      ],
      "metadata": {
        "id": "0lpCEKvPbrGX"
      },
      "execution_count": null,
      "outputs": []
    },
    {
      "cell_type": "code",
      "source": [
        "doc1 = nlp_ner(x)"
      ],
      "metadata": {
        "id": "AIkrkt_FbrIs"
      },
      "execution_count": null,
      "outputs": []
    },
    {
      "cell_type": "code",
      "source": [
        "spacy.displacy.render(doc1, style=\"ent\", jupyter=True)"
      ],
      "metadata": {
        "colab": {
          "base_uri": "https://localhost:8080/",
          "height": 227
        },
        "id": "Mwgm9CDfbrLN",
        "outputId": "ba93e98f-0f76-4718-c880-8df3ff956cab"
      },
      "execution_count": null,
      "outputs": [
        {
          "output_type": "display_data",
          "data": {
            "text/plain": [
              "<IPython.core.display.HTML object>"
            ],
            "text/html": [
              "<span class=\"tex2jax_ignore\"><div class=\"entities\" style=\"line-height: 2.5; direction: ltr\">Under the facts and circumstances of the case and keeping in mind the rate of interest which was</br>legally permissible at the relevant time, the impugned award dated 6th July, 2006 is modified to the</br>extent that the judgment debtor/petitioner shall pay interest @ 9% per annum on the principal</br>amount of Rs.3,58,734.41 for the period as awarded. It is pertinent to mention here that the</br>principal amount has already been paid by the Petitioner.</br>\n",
              "<mark class=\"entity\" style=\"background: #ddd; padding: 0.45em 0.6em; margin: 0 0.25em; line-height: 1; border-radius: 0.35em;\">\n",
              "    19.\n",
              "    <span style=\"font-size: 0.8em; font-weight: bold; line-height: 1; border-radius: 0.35em; vertical-align: middle; margin-left: 0.5rem\">DISMISSED</span>\n",
              "</mark>\n",
              " Petition stands allowed to the extent as stated above. There are no orders as to \n",
              "<mark class=\"entity\" style=\"background: #ddd; padding: 0.45em 0.6em; margin: 0 0.25em; line-height: 1; border-radius: 0.35em;\">\n",
              "    costs.\n",
              "    <span style=\"font-size: 0.8em; font-weight: bold; line-height: 1; border-radius: 0.35em; vertical-align: middle; margin-left: 0.5rem\">COSTS</span>\n",
              "</mark>\n",
              "</div></span>"
            ]
          },
          "metadata": {}
        }
      ]
    },
    {
      "cell_type": "code",
      "source": [],
      "metadata": {
        "id": "wgWPqEeUbe_W"
      },
      "execution_count": null,
      "outputs": []
    }
  ]
}