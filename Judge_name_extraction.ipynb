{
  "nbformat": 4,
  "nbformat_minor": 0,
  "metadata": {
    "colab": {
      "provenance": []
    },
    "kernelspec": {
      "name": "python3",
      "display_name": "Python 3"
    },
    "language_info": {
      "name": "python"
    }
  },
  "cells": [
    {
      "cell_type": "code",
      "execution_count": null,
      "metadata": {
        "id": "1ohbsPhz9uE7"
      },
      "outputs": [],
      "source": [
        "!pip install -U spacy -q"
      ]
    },
    {
      "cell_type": "code",
      "source": [
        "import spacy\n",
        "from spacy.tokens import DocBin\n",
        "from tqdm import tqdm\n",
        "nlp = spacy.blank(\"en\")\n",
        "db = DocBin()"
      ],
      "metadata": {
        "id": "5_6JaWZKEFZW"
      },
      "execution_count": null,
      "outputs": []
    },
    {
      "cell_type": "code",
      "source": [
        "from google.colab import drive\n",
        "drive.mount('/content/drive')"
      ],
      "metadata": {
        "colab": {
          "base_uri": "https://localhost:8080/"
        },
        "id": "FbxM8FUaEFb_",
        "outputId": "314272c0-b758-4675-d8c3-9d77489381f0"
      },
      "execution_count": null,
      "outputs": [
        {
          "output_type": "stream",
          "name": "stdout",
          "text": [
            "Mounted at /content/drive\n"
          ]
        }
      ]
    },
    {
      "cell_type": "code",
      "source": [
        "import json\n",
        "f = open('/content/drive/MyDrive/Colab Notebooks/MTP after 15/Judge_extraction/judge_name_annotation.json')\n",
        "TRAIN_DATA = json.load(f)"
      ],
      "metadata": {
        "id": "ilKsW8f2EFeb"
      },
      "execution_count": null,
      "outputs": []
    },
    {
      "cell_type": "code",
      "source": [
        "TRAIN_DATA"
      ],
      "metadata": {
        "colab": {
          "base_uri": "https://localhost:8080/"
        },
        "id": "jiJRFSQsEFhd",
        "outputId": "cc1f3b69-cede-4dbb-8af0-d877f420ec6f"
      },
      "execution_count": null,
      "outputs": [
        {
          "output_type": "execute_result",
          "data": {
            "text/plain": [
              "{'classes': ['JUDGE'],\n",
              " 'annotations': [['Conclusion:\\r\\n25) Admittedly, No-Dues Certificate was submitted by the contractee-Company on 21.09.2012 and\\r\\non their request Completion Certificate was issued by the appellant- Contractor. The contractee,\\r\\nafter a gap of one month, that is, on 24.10.2012, withdrew the No Dues Certificate on the grounds of\\r\\ncoercion and duress and the claim for losses incurred during execution of the Contract site was\\r\\nmade vide letter dated 12.01.2013, i.e., after a gap of 3 ½ (three and a half) months whereas the\\r\\nFinal Bill was settled on 10.10.2012. When the contractee accepted the final payment in full and\\r\\nfinal satisfaction of all its claims, there is no point in raising the claim for losses incurred during the\\r\\nexecution of the Contract at a belated stage which creates an iota of doubt as to why such claim was\\r\\n26) In view of the foregoing discussion, we set aside the judgment and order dated 12.01.2015\\r\\npassed by the High Court. The appeal is allowed.\\r\\n....J.\\r\\n(R.K. AGRAWAL) .....J.\\r\\n(AMITAVA ROY) NEW DELHI;\\r\\nFEBRUARY 7, 2018.\\r\\n',\n",
              "   {'entities': [[961, 980, 'JUDGE'], [984, 1003, 'JUDGE']]}],\n",
              "  ['\\r\\n\\r\\n59. For the foregoing reasons, there exists no ground to interfere with the findings of the Arbitral\\r\\nTribunals. Both the petitions are hereby dismissed with no order as to costs.\\r\\nDEEPA SHARMA, J.\\r\\nDECEMBER 17, 2014 Sapna/BG\\r\\n',\n",
              "   {'entities': [[185, 201, 'JUDGE']]}],\n",
              "  ['\\r\\n\\r\\n35. Both the applications stands disposed of, in view of the order passed in the appeal.\\r\\nG.S.SISTANI, J.\\r\\nSANGITA DHINGRA SEHGAL, J.\\r\\nFEBRUARY 20, 2018\\r\\n--/rb/pst\\r\\n',\n",
              "   {'entities': [[94, 109, 'JUDGE'], [111, 137, 'JUDGE']]}],\n",
              "  [\"\\r\\n26.In the result, this appeal shall stand dismissed. However, there shall be no order as to costs.\\r\\nConsequently, connected miscellaneous petition is also closed.\\r\\n (I.B. C.J.,) (A.Q. J.,) 09.02.2018\\r\\nSpeaking Order /Non-speaking order\\r\\nInternet: Yes/No \\r\\nIndex : Yes /No\\r\\npam\\r\\nTHE HON'BLE CHIEF JUSTICE \\r\\nAND\\r\\nABDUL QUDDHOSE, J.\\r\\n\",\n",
              "   {'entities': [[284, 331, 'JUDGE']]}],\n",
              "  ['\\r\\n\\r\\nTherefore, I do not find any reason to interfere with the Arbitral Award.\\r\\n18.In the result, the Petition to set aside the Arbitral Award is dismissed.\\r\\n08.11.2019 Speaking/non speaking order Index: Yes Internet: Yes http://www.judis.nic.in 25 of 26\\r\\nO.P.No.485 of 2014 SENTHILKUMAR RAMAMOORTHY, J.\\r\\nrrg Pre Delivery order in O.P.No.485 of 2014 08.11.2019 http://www.judis.nic.in 26 of 26\\r\\n',\n",
              "   {'entities': [[274, 302, 'JUDGE']]}],\n",
              "  ['\\r\\n\\r\\nCertified copy of this order, if applied for, be supplied to the parties subject to compliance of all\\r\\nrequisite formalities.\\r\\n(Indira Banerjee, J.)\\r\\n',\n",
              "   {'entities': [[131, 150, 'JUDGE']]}],\n",
              "  ['\\r\\n\\r\\n8. In the result, the impugned judgment is modified to the extent that the amount awarded by the\\r\\nArbitrator against claim nos. 3 and 4 stands allowed in favour of the contractor-Indian Builders.\\r\\nWith these findings, the Arbitration Appeal No. 19 of 2007 is allowed and Arbitration Appeal No. 18\\r\\nof 2007 is dismissed.\\r\\n(R.K. Merathia, J) Rakesh/\\r\\n',\n",
              "   {'entities': [[325, 342, 'JUDGE']]}],\n",
              "  ['\\r\\n\\r\\n23. Thus, this Court is inclined to interfere with the award to the extent indicated above as it is a fit\\r\\ncase to exercise the power under Section 34 of the Arbitration and Conciliation Act, 1996, in the\\r\\nlight of the law laid down by the Apex Court in OIL & NATURAL GAS CORPORATION LTD., V.\\r\\nSAW PIPES LTD., ((2003) 5 Supreme Court Cases 705) and ASSOCIATE BUILDERS V. DELHI\\r\\nDEVELOPMENT AUTHORITY ((2015) 3 Supreme Court Cases 49). Accordingly, this original\\r\\npetition stands allowed except item No.3 dealing with the profit for reduced scope of work, while\\r\\ngiving liberty to the respondent raise a claim for Item No.6 through a separate and independent\\r\\nproceeding. No costs.\\r\\n26.03.2018 Index: Yes raa M.M.SUNDRESH, J.\\r\\nraa Pre-Delivery Order in O.P.No.429 of 2016 26.03.2018\\r\\n',\n",
              "   {'entities': [[712, 728, 'JUDGE']]}],\n",
              "  ['\\r\\n\\r\\n32. The appeal is, accordingly, allowed. The impugned order dated December 8, 2006 passed by the\\r\\nChief Justice of the High Court of Punjab and Haryana is set aside. The parties shall bear their own\\r\\ncosts.\\r\\n.........................J.\\r\\n(Aftab Alam) ........................ J.\\r\\n(R.M. Lodha) NEW DELHI.\\r\\nAPRIL 25, 2011\\r\\n',\n",
              "   {'entities': [[236, 253, 'JUDGE'], [279, 295, 'JUDGE']]}],\n",
              "  ['\\r\\n\\r\\nCertified copy of this order, if applied for, be supplied to the parties subject to compliance of all\\r\\nrequisite formalities.\\r\\n(Indira Banerjee, J.)\\r\\n',\n",
              "   {'entities': [[131, 152, 'JUDGE']]}],\n",
              "  ['\\r\\n\\r\\n18. The above infirmities in the award are clearly of the kind, considered to be beyond jurisdiction of\\r\\nthe arbitrator, as contrary the contract; therefore, falling within the scope of judicial intervention\\r\\naccording to the law declared in Saw Pipes (supra) and the subsequent rulings of the Supreme\\r\\nCourt. The petition therefore, deserves to succeed. OMP 355/2004 is accordingly, allowed; the\\r\\nimpugned award of the sole Arbitrator dated 24th April, 2003 whereby the claim was O.M.P.\\r\\n355/2004 11 of 12 allowed to the extent of Rs. 2,30,000/-, in favour of the respondent Contractor\\r\\nwith interest at 15% per annum, is hereby set aside. In the circumstances, the parties shall bear their\\r\\nown costs.\\r\\nDATED: 13th August, 2008 S. RAVINDRA BHAT, J\\r\\nO.M.P. 355/2004 12 of 12\\r\\n',\n",
              "   {'entities': [[734, 753, 'JUDGE']]}],\n",
              "  ['\\r\\n\\r\\n\\r\\n18. For the aforementioned reasons, the petition is dismissed but in the circumstances with no order\\r\\nas to costs.\\r\\nS. MURALIDHAR, J MAY 11, 2015 Mg/dn\\r\\n',\n",
              "   {'entities': [[122, 138, 'JUDGE']]}],\n",
              "  ['\\r\\n\\r\\n\\r\\n10.12.2019 Speaking order Index : Yes Internet : Yes kal/rrg SENTHILKUMAR\\r\\nRAMAMOORTHY.J., http://www.judis.nic.in 19 of 20 O.P.Nos.87 & 88 of 2014, 168 of 2015 & 446\\r\\nof 2016 kal/rrg Pre-Delivery Common Order in O.P. Nos. 87 & 88 of 2014 & O.P. No.168 of 2015 &\\r\\nO.P. No. 446 of 2016 10.12.2019 http://www.judis.nic.in 20 of 20\\r\\n',\n",
              "   {'entities': [[67, 95, 'JUDGE']]}],\n",
              "  ['\\r\\n\\r\\n\\r\\n46. The batch of appeals are accordingly disposed of on the terms indicated. No costs.\\r\\n47. Pending application(s), if any, stand disposed of.\\r\\nJ.\\r\\n(A.M. KHANWILKAR) J.\\r\\n(AJAY RASTOGI) NEW DELHI March 29, 2019\\r\\n',\n",
              "   {'entities': [[150, 171, 'JUDGE'], [172, 190, 'JUDGE']]}],\n",
              "  ['\\r\\n\\r\\n\\r\\n25. The appeals are disposed of in aforesaid terms, without any order as to costs.\\r\\n..J.\\r\\n(Adarsh Kumar Goel) ..J.\\r\\n(Uday Umesh Lalit) New Delhi September 12, 2017\\r\\n',\n",
              "   {'entities': [[90, 115, 'JUDGE'], [116, 140, 'JUDGE']]}],\n",
              "  ['\\r\\n\\r\\n\\r\\nAccordingly, the mandate of the three-member arbitral tribunal constituted under the ICA Rules on\\r\\n05.12.2015 stands terminated. The Sole Arbitrator shall proceed in continuation of the previously\\r\\nconstituted arbitral tribunal. The material already on record shall be deemed to have been received\\r\\nby the Sole Arbitrator.\\r\\nThe Appeal is disposed of accordingly.\\r\\n.............................J. (ABHAY MANOHAR SAPRE) .............................J.\\r\\n(INDU MALHOTRA) New Delhi January 3, 2019\\r\\n',\n",
              "   {'entities': [[397, 423, 'JUDGE'], [451, 472, 'JUDGE']]}],\n",
              "  ['\\r\\n\\r\\n\\r\\n17. In the result, the impugned judgments dated 15.05.2015 and 02.02.2015 of the High Court of\\r\\nDelhi in Arbitration Petition No.168 of 2015 and Arbitration Petition No.531 of 2014 are set aside\\r\\nand these appeals are allowed. The appellant is directed to appoint the arbitrator in terms of Clause\\r\\n64(3) of the agreement within a period of one month from today under intimation to the\\r\\nrespondent(s)- contractors. As soon as the communication of the appointment of arbitrator is made\\r\\nto the respondent(s), the statement of claim be filed by the respondent(s) within six weeks thereafter\\r\\nand the reply of the appellant to be filed within four weeks thereafter. The arbitrator shall proceed\\r\\nwith the matter in accordance with law and decide the claim after affording sufficient opportunity of\\r\\nhearing to both parties expeditiously preferably within a period of four months.\\r\\n..J.\\r\\n[R. BANUMATHI] ..J.\\r\\n[A.S. BOPANNA] ...J.\\r\\n[HRISHIKESH ROY] New Delhi;\\r\\nNovember 14, 2019\\r\\n',\n",
              "   {'entities': [[884, 904, 'JUDGE'],\n",
              "     [905, 925, 'JUDGE'],\n",
              "     [929, 949, 'JUDGE']]}],\n",
              "  ['\\r\\n\\r\\nWe record our appreciation of the assistance rendered by the learned Attorney General as Amicus\\r\\nCuriae.\\r\\nIn the result, the appeals are dismissed. No order as to costs.\\r\\n.......................................CJI.\\r\\n..........................................J.\\r\\n (Syed Shah Mohammed Quadri)\\r\\n..........................................J.\\r\\n (U.C. Banerjee)\\r\\n..........................................J.\\r\\n (S.N. Variava)\\r\\n..........................................J.\\r\\n (Shivaraj V. Patil)\\r\\nJanuary 30, 2002.\\r\\n',\n",
              "   {'entities': [[262, 294, 'JUDGE'],\n",
              "     [338, 358, 'JUDGE'],\n",
              "     [402, 421, 'JUDGE'],\n",
              "     [465, 489, 'JUDGE']]}],\n",
              "  ['\\r\\n\\r\\n64(3)(b) of the General Conditions of Contract within a period of thirty days from today under\\r\\nintimation to the respondent-contractor. The respondent- contractor shall select two from the four\\r\\nsuggested names and communicate to the appellant within thirty days from the date of receipt of the\\r\\nnames of the nominees. Upon receipt of the communication from the respondent, the appellant\\r\\nshall constitute the Arbitral Tribunal in terms of Clause 64(3)(b) of the General Conditions of\\r\\nContract within thirty days from the date of the receipt of the communication from the respondent.\\r\\nParties to bear their respective costs.\\r\\n..J.\\r\\n[R. BANUMATHI] ..J.\\r\\n[A.S. BOPANNA] ...J.\\r\\n[HRISHIKESH ROY] New Delhi;\\r\\nDecember 17, 2019.\\r\\n',\n",
              "   {'entities': [[632, 652, 'JUDGE'],\n",
              "     [653, 673, 'JUDGE'],\n",
              "     [677, 697, 'JUDGE']]}],\n",
              "  [\"\\r\\nConclusions\\r\\n35. For the above reasons, the impugned Award dated 15th January 2006 is set aside to the extent\\r\\nindicated above. The claims of IOCL are held to be within the limitation and are remitted to the\\r\\nlearned Arbitrator for a fresh decision on merits after hearing both sides. For this purpose, the\\r\\nRegistry will remit the entire arbitral record to the learned Arbitrator within two weeks. The\\r\\nquestion of payment of the amount admitted by IOCL as payable by it to ECIL will be decided in the\\r\\nfresh Award by the learned Arbitrator depending on the decision on IOCL's claims. The counter\\r\\nclaims of ECIL are held to be not arbitrable and the impugned Award allowing them is set aside.\\r\\n36. The petition is disposed of in the above terms with no order as to costs.\\r\\nS. MURALIDHAR, J.\\r\\nAPRIL 27, 2012 s.pal\\r\\n\",\n",
              "   {'entities': [[777, 794, 'JUDGE']]}],\n",
              "  ['\\r\\n\\r\\n\\r\\n46. The jurisdiction of this Court is limited to see if the learned tribunal has transgressed beyond the\\r\\ncontract or has not acted in accordance with law or if has applied wrong principles of law. The Court\\r\\nunder Section 34 of the Act does not sit in appeal over the award and there is no scope of\\r\\nre-evaluation on merits or reinterpreting the terms of the contract. This position has even been\\r\\nupheld by the Apex Court in Associate Builders vs. DDA (2015) 3 SCC 49.\\r\\n47. The petition is dismissed. No orders as to cost.\\r\\nYOGESH KHANNA, J JULY 16, 2018 M\\r\\n',\n",
              "   {'entities': [[532, 548, 'JUDGE']]}],\n",
              "  ['\\r\\n\\r\\n\\r\\n10. The learned Arbitrator has granted interest for 6 years, 2 months and 21 days. There is some\\r\\njustification for the learned Arbitrator to grant interest to the respondent. Noting the fact that the\\r\\njurisdiction of this Court under Section 37 of the Act is very limited, we are of the view that the\\r\\nimpugned order does not require any interference. The appeal is dismissed.\\r\\nV. KAMESWAR RAO, J CHIEF JUSTICE OCTOBER 22, 2018/ak\\r\\n',\n",
              "   {'entities': [[385, 403, 'JUDGE']]}],\n",
              "  ['\\r\\n\\r\\n\\r\\n18. For the aforementioned reasons, the petition is dismissed but in the circumstances with no order\\r\\nas to costs.\\r\\nS. MURALIDHAR, J MAY 11, 2015 Mg/dn\\r\\n',\n",
              "   {'entities': [[122, 138, 'JUDGE']]}],\n",
              "  ['\\r\\n\\r\\n\\r\\n101. In the present case, the petitioner has not been able to set out any ground on merits on which\\r\\nthe Arbitral award merits interference from this Court except in the case of the butterfly valve and\\r\\nthe award is modified and respondent held liable to pay Rs.3,45,000/- instead of Rs.2,00,000/-\\r\\nordered by the Arbitral Tribunal on this claim. This amount of Rs.3,45,000/- instead of\\r\\nRs.2,00,000/- shall be adjusted from the amount payable by the petitioner to the respondent.\\r\\nHowever, I also allow the plea of the learned counsel for the petitioner Shri Bhat that in light of the\\r\\ncurrent interest rates levy of 18% interest per annum was excessive and consequently reduce the rate\\r\\nof interest awarded by the Arbitral Tribunal to 12% uniformly. The present petition is accordingly\\r\\ndismissed with the above modifications with costs of Rs.20,000/- in favour of the respondent.\\r\\n(MUKUL MUDGAL) JUDGE April 17, 2009 sk\\r\\n',\n",
              "   {'entities': [[890, 910, 'JUDGE']]}],\n",
              "  ['\\r\\n\\r\\n72. For the aforementioned reasons, the objections of NBCC to the impugned Award dated 21st July\\r\\n2003 are hereby rejected and the said Award is made rule of the Court. The petition is disposed of\\r\\nwith costs of Rs.30,000 which will be paid by NBCC to the PRW within four weeks. Decree sheet be\\r\\ndrawn up accordingly.\\r\\nS. MURALIDHAR, J.\\r\\nMARCH 07, 2012 s.pal\\r\\n',\n",
              "   {'entities': [[323, 340, 'JUDGE']]}],\n",
              "  ['\\r\\n\\r\\n11. The Appeal is wholly devoid of merit and is dismissed with costs of ` 50,000/-. Public Sector\\r\\nUndertakings such as the Appellant should not needlessly exhaust the scarce time of the courts by\\r\\nfiling frivolous appeals. Costs should have been punitive but we restrict them to the aforesaid sum.\\r\\nThe amount deposited by the Appellant with the Registrar-General of this Court be released to the\\r\\nRespondent forthwith.\\r\\n( VIKRAMAJIT SEN ) JUDGE ( SIDDHARTH MRIDUL ) JUDGE August 30, 2011 tp\\r\\n',\n",
              "   {'entities': [[426, 450, 'JUDGE'], [451, 477, 'JUDGE']]}],\n",
              "  ['\\r\\n13. Having articulated this appreciation of law, it would be illogical for us to enter into a detailed\\r\\ndialectic upholding the views of the Arbitral Tribunal with regard to the interpretation of the\\r\\ncontract vis-à-vis the claim for escalation on the BoQ contained in the contract. We uphold the\\r\\ndetailed reasoning of the learned Single Judge in the impugned Order which, in turn, had\\r\\nappreciated the conclusion of the Arbitral Tribunal. No perversity has been detected by the learned\\r\\nSingle Judge as also by us. We affirm that the contract envisages payment of escalation on BoQ spelt\\r\\nout in the contract as well as on deviations and extra work subsequently placed by the Appellants on\\r\\nthe Respondents. For these reasons, the Appeal is devoid of merit and is dismissed along with\\r\\npending application with additional costs of ` 30,000/-.\\r\\n( VIKRAMAJIT SEN ) JUDGE ( MUKTA GUPTA ) JUDGE August 30, 2010 tp\\r\\n',\n",
              "   {'entities': [[848, 872, 'JUDGE'], [873, 894, 'JUDGE']]}],\n",
              "  ['\\r\\n\\r\\n150. I therefore, pass the following order :-\\r\\n(a) Arbitration Petition is partly allowed. Award in respect of Rs.8.00 lakhs for\\r\\nremoval of heaved portion, Rs.3.00 lakhs for refund of amount withheld for payment\\r\\nof royalty and interest awarded on two claims, and award rejecting counter claim is\\r\\nupheld. Rest of the award is set aside.\\r\\n(b) There shall be no order as to costs.\\r\\n(R.D. DHANUKA, J.)\\r\\n',\n",
              "   {'entities': [[387, 402, 'JUDGE']]}],\n",
              "  ['\\r\\n\\r\\nArbitrator having held that the entire delay was attributable to the petitioner, has awarded the claims in\\r\\nfavour of the respondent and such Award, unless found to be totally unreasonable or perverse, cannot be\\r\\ninterfered with by this Court.\\r\\n14. In view of the above, I find no merit in the present petition and the same is accordingly dismissed, with\\r\\nno order as to cost. NAVIN CHAWLA, J DECEMBER 19, 2018/rv\\r\\n',\n",
              "   {'entities': [[381, 396, 'JUDGE']]}],\n",
              "  ['\\r\\n42. In view of the above, the impugned award to the extent of counter claim awarded in favour of HCL, is\\r\\nset aside.\\r\\n43. The petition and the pending applications are disposed of. Parties are left to bear their own costs.\\r\\nVIBHU BAKHRU, J JULY 02, 2018',\n",
              "   {'entities': [[226, 241, 'JUDGE']]}]]}"
            ]
          },
          "metadata": {},
          "execution_count": 5
        }
      ]
    },
    {
      "cell_type": "code",
      "source": [
        "for text, annot in tqdm(TRAIN_DATA['annotations']):\n",
        "    doc = nlp.make_doc(text)\n",
        "    ents = []\n",
        "    for start, end, label in annot[\"entities\"]:\n",
        "        span = doc.char_span(start, end, label=label, alignment_mode=\"contract\")\n",
        "        if span is None:\n",
        "           print(\"Skipping entity\")\n",
        "        else:\n",
        "           ents.append(span)\n",
        "    doc.ents = ents\n",
        "    db.add(doc)\n",
        "\n",
        "db.to_disk(\"./training_data_j_extract.spacy\")"
      ],
      "metadata": {
        "colab": {
          "base_uri": "https://localhost:8080/"
        },
        "id": "YDNKR_hhEFm0",
        "outputId": "1b1ffe9b-c852-43de-97a1-32785930a186"
      },
      "execution_count": null,
      "outputs": [
        {
          "output_type": "stream",
          "name": "stderr",
          "text": [
            "100%|██████████| 30/30 [00:00<00:00, 522.29it/s]\n"
          ]
        }
      ]
    },
    {
      "cell_type": "code",
      "source": [
        "! python -m spacy init config config.cfg --lang en --pipeline ner --optimize efficiency"
      ],
      "metadata": {
        "colab": {
          "base_uri": "https://localhost:8080/"
        },
        "id": "0X0JDQAjEFpT",
        "outputId": "0cf15f64-67fa-4a74-9976-40092366334d"
      },
      "execution_count": null,
      "outputs": [
        {
          "output_type": "stream",
          "name": "stdout",
          "text": [
            "2022-10-05 12:18:14.838309: E tensorflow/stream_executor/cuda/cuda_driver.cc:271] failed call to cuInit: CUDA_ERROR_NO_DEVICE: no CUDA-capable device is detected\n",
            "\u001b[38;5;3m⚠ To generate a more effective transformer-based config (GPU-only),\n",
            "install the spacy-transformers package and re-run this command. The config\n",
            "generated now does not use transformers.\u001b[0m\n",
            "\u001b[38;5;4mℹ Generated config template specific for your use case\u001b[0m\n",
            "- Language: en\n",
            "- Pipeline: ner\n",
            "- Optimize for: efficiency\n",
            "- Hardware: CPU\n",
            "- Transformer: None\n",
            "\u001b[38;5;2m✔ Auto-filled config with all values\u001b[0m\n",
            "\u001b[38;5;2m✔ Saved config\u001b[0m\n",
            "config.cfg\n",
            "You can now add your data and train your pipeline:\n",
            "python -m spacy train config.cfg --paths.train ./train.spacy --paths.dev ./dev.spacy\n"
          ]
        }
      ]
    },
    {
      "cell_type": "code",
      "source": [
        "! python -m spacy train config.cfg --output ./ --paths.train ./training_data_j_extract.spacy --paths.dev ./training_data_j_extract.spacy"
      ],
      "metadata": {
        "colab": {
          "base_uri": "https://localhost:8080/"
        },
        "id": "X9LTrNt-EFsI",
        "outputId": "a00ca687-ef76-4f9c-8312-6144793c9c96"
      },
      "execution_count": null,
      "outputs": [
        {
          "output_type": "stream",
          "name": "stdout",
          "text": [
            "2022-10-05 12:18:25.909649: E tensorflow/stream_executor/cuda/cuda_driver.cc:271] failed call to cuInit: CUDA_ERROR_NO_DEVICE: no CUDA-capable device is detected\n",
            "\u001b[38;5;4mℹ Saving to output directory: .\u001b[0m\n",
            "\u001b[38;5;4mℹ Using CPU\u001b[0m\n",
            "\u001b[1m\n",
            "=========================== Initializing pipeline ===========================\u001b[0m\n",
            "[2022-10-05 12:18:26,837] [INFO] Set up nlp object from config\n",
            "INFO:spacy:Set up nlp object from config\n",
            "[2022-10-05 12:18:26,858] [INFO] Pipeline: ['tok2vec', 'ner']\n",
            "INFO:spacy:Pipeline: ['tok2vec', 'ner']\n",
            "[2022-10-05 12:18:26,872] [INFO] Created vocabulary\n",
            "INFO:spacy:Created vocabulary\n",
            "[2022-10-05 12:18:26,874] [INFO] Finished initializing nlp object\n",
            "INFO:spacy:Finished initializing nlp object\n",
            "[2022-10-05 12:18:27,316] [INFO] Initialized pipeline components: ['tok2vec', 'ner']\n",
            "INFO:spacy:Initialized pipeline components: ['tok2vec', 'ner']\n",
            "\u001b[38;5;2m✔ Initialized pipeline\u001b[0m\n",
            "\u001b[1m\n",
            "============================= Training pipeline =============================\u001b[0m\n",
            "\u001b[38;5;4mℹ Pipeline: ['tok2vec', 'ner']\u001b[0m\n",
            "\u001b[38;5;4mℹ Initial learn rate: 0.001\u001b[0m\n",
            "E    #       LOSS TOK2VEC  LOSS NER  ENTS_F  ENTS_P  ENTS_R  SCORE \n",
            "---  ------  ------------  --------  ------  ------  ------  ------\n",
            "  0       0          0.00     56.17    2.47    1.71    4.44    0.02\n",
            "  7     200         87.70   1230.68   97.78   97.78   97.78    0.98\n",
            " 15     400         10.86     25.14   97.78   97.78   97.78    0.98\n",
            " 24     600          7.52     24.04   97.78   97.78   97.78    0.98\n",
            " 34     800          6.76     23.27   97.78   97.78   97.78    0.98\n",
            " 45    1000         20.73     32.98   97.78   97.78   97.78    0.98\n",
            " 60    1200          8.75     35.94   97.78   97.78   97.78    0.98\n",
            " 79    1400         18.15     50.94   97.78   97.78   97.78    0.98\n",
            "102    1600         13.18     43.32   97.78   97.78   97.78    0.98\n",
            "132    1800         11.64     57.57   97.78   97.78   97.78    0.98\n",
            "\u001b[38;5;2m✔ Saved pipeline to output directory\u001b[0m\n",
            "model-last\n"
          ]
        }
      ]
    },
    {
      "cell_type": "code",
      "source": [
        "nlp_ner = spacy.load(\"/content/model-last\")"
      ],
      "metadata": {
        "id": "BHqOh_fxEFyM"
      },
      "execution_count": null,
      "outputs": []
    },
    {
      "cell_type": "code",
      "source": [
        "import pickle"
      ],
      "metadata": {
        "id": "GsQR3mvUEF1D"
      },
      "execution_count": null,
      "outputs": []
    },
    {
      "cell_type": "code",
      "source": [
        "with open('model1_pickle_j_extract', 'wb') as f:\n",
        "  pickle.dump(nlp_ner, f)"
      ],
      "metadata": {
        "id": "zbp5s6mMEF6C"
      },
      "execution_count": null,
      "outputs": []
    },
    {
      "cell_type": "code",
      "source": [
        "with open(\"/jtest2.txt\") as f1:\n",
        "  x = f1.read()"
      ],
      "metadata": {
        "id": "dLOoEjJ2EX4N"
      },
      "execution_count": null,
      "outputs": []
    },
    {
      "cell_type": "code",
      "source": [
        "doc1 = nlp_ner(x)"
      ],
      "metadata": {
        "id": "RB1i2yGJEX6j"
      },
      "execution_count": null,
      "outputs": []
    },
    {
      "cell_type": "code",
      "source": [
        "spacy.displacy.render(doc1, style=\"ent\", jupyter=True)"
      ],
      "metadata": {
        "colab": {
          "base_uri": "https://localhost:8080/",
          "height": 367
        },
        "id": "7B0crkhvEX-d",
        "outputId": "c378c82d-e321-411a-c6b5-93b6002c2b78"
      },
      "execution_count": null,
      "outputs": [
        {
          "output_type": "display_data",
          "data": {
            "text/plain": [
              "<IPython.core.display.HTML object>"
            ],
            "text/html": [
              "<span class=\"tex2jax_ignore\"><div class=\"entities\" style=\"line-height: 2.5; direction: ltr\">23. Thus, this Court is inclined to interfere with the award to the extent indicated above as it is a fit</br>case to exercise the power under Section 34 of the Arbitration and Conciliation Act, 1996, in the</br>light of the law laid down by the Apex Court in OIL &amp; NATURAL GAS CORPORATION LTD., V.</br>SAW PIPES LTD., ((2003) 5 Supreme Court Cases 705) and ASSOCIATE BUILDERS V. DELHI</br>DEVELOPMENT AUTHORITY ((2015) 3 Supreme Court Cases 49). Accordingly, this original</br>petition stands allowed except item No.3 dealing with the profit for reduced scope of work, while</br>giving liberty to the respondent raise a claim for Item No.6 through a separate and independent</br>proceeding. No costs.</br>26.03.2018 Index: Yes raa \n",
              "<mark class=\"entity\" style=\"background: #ddd; padding: 0.45em 0.6em; margin: 0 0.25em; line-height: 1; border-radius: 0.35em;\">\n",
              "    M.M.SUNDRESH, J.\n",
              "    <span style=\"font-size: 0.8em; font-weight: bold; line-height: 1; border-radius: 0.35em; vertical-align: middle; margin-left: 0.5rem\">JUDGE</span>\n",
              "</mark>\n",
              "</br>raa Pre-Delivery Order in O.P.No.429 of 2016 26.03.2018</div></span>"
            ]
          },
          "metadata": {}
        }
      ]
    },
    {
      "cell_type": "code",
      "source": [],
      "metadata": {
        "id": "kwpk-aepGLDK"
      },
      "execution_count": null,
      "outputs": []
    }
  ]
}