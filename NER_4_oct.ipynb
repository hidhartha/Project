{
  "nbformat": 4,
  "nbformat_minor": 0,
  "metadata": {
    "colab": {
      "provenance": []
    },
    "kernelspec": {
      "name": "python3",
      "display_name": "Python 3"
    },
    "language_info": {
      "name": "python"
    }
  },
  "cells": [
    {
      "cell_type": "code",
      "execution_count": null,
      "metadata": {
        "id": "Yi6t0ef9asUk"
      },
      "outputs": [],
      "source": [
        "!pip install -U spacy -q"
      ]
    },
    {
      "cell_type": "code",
      "source": [
        "import spacy\n",
        "from spacy.tokens import DocBin\n",
        "from tqdm import tqdm\n",
        "nlp = spacy.blank(\"en\")\n",
        "db = DocBin()"
      ],
      "metadata": {
        "id": "l3Y4EzmNeVYv"
      },
      "execution_count": null,
      "outputs": []
    },
    {
      "cell_type": "code",
      "source": [
        "from google.colab import drive\n",
        "drive.mount('/content/drive')"
      ],
      "metadata": {
        "colab": {
          "base_uri": "https://localhost:8080/"
        },
        "id": "4lFLPPHGeVxK",
        "outputId": "9a7ee44f-2fc8-43d0-d2d4-c365f32166d3"
      },
      "execution_count": null,
      "outputs": [
        {
          "output_type": "stream",
          "name": "stdout",
          "text": [
            "Mounted at /content/drive\n"
          ]
        }
      ]
    },
    {
      "cell_type": "code",
      "source": [
        "import json\n",
        "f = open('/content/drive/MyDrive/Colab Notebooks/MTP after 15/Annotations/NER_cleaned_data_annotations.json')\n",
        "TRAIN_DATA = json.load(f)"
      ],
      "metadata": {
        "id": "hGC1zGIyeV0W"
      },
      "execution_count": null,
      "outputs": []
    },
    {
      "cell_type": "code",
      "source": [
        "TRAIN_DATA"
      ],
      "metadata": {
        "colab": {
          "base_uri": "https://localhost:8080/"
        },
        "id": "kc8ZCQMLeV3e",
        "outputId": "4cbb9f62-0b85-4291-8fb2-8bc75aa7683f"
      },
      "execution_count": null,
      "outputs": [
        {
          "output_type": "execute_result",
          "data": {
            "text/plain": [
              "{'classes': ['RESPONDENT',\n",
              "  'DATE',\n",
              "  'COURT',\n",
              "  'CORAM',\n",
              "  'CASE NUMBER',\n",
              "  'AUTHOR',\n",
              "  'ADVOCATES OF PETIONER',\n",
              "  'ADVOCATES OF RESPONDENT',\n",
              "  'APPELLANT',\n",
              "  'APPELANT ADDRESS',\n",
              "  'RESPONDENT ADDRESS'],\n",
              " 'annotations': [[\"Airports Authority Of India vs WS Sikka Associates on 20 February, 2018\\nDelhi High Court\\nAirports Authority Of India vs M/S Sikka Associates on 20 February, 2018\\n$-56\\n*\\nIN THE HIGH COURT OF DELHI AT NEW DELHI\\nDate of Judgment\\n20th February , 2018\\nFAO (OS)   (COMM) 24/2018\\nAIRPORTS AUTHORITY OF INDIA\\nAppellant\\nThrough\\nMr _\\nK.K. Rai,\\nSr _\\nAdv _\\nwith Mr\\nDigvijay Rai_\\nMs\\nChetna Rai,\\nMr _\\nAnshul Rai_\\nMr\\nChandershekhar\\nA.C. , Mr _\\nPulkit Tyagi, Advocates _\\nversus\\nM/S SIKKA ASSOCIATES\\nRespondent\\nThrough\\nMr _\\nVirender Kumar Sharma _\\nAdv _\\nCORAM:\\nHON 'BLE MR_\\nJUSTICE G.S.SISTANI\\nHON 'BLE MS _\\nJUSTICE SANGITA DHINGRA SEHGAL\\nG.S.SISTANI,\\nJ\\n(ORAL )\\nIndian Kanoon - http:Ilindiankanoon orgldoc/172445484/\\n\",\n",
              "   {'entities': [[0, 30, 'APPELLANT'],\n",
              "     [31, 50, 'RESPONDENT'],\n",
              "     [54, 71, 'DATE'],\n",
              "     [72, 88, 'COURT'],\n",
              "     [89, 119, 'APPELLANT'],\n",
              "     [120, 140, 'RESPONDENT'],\n",
              "     [144, 161, 'DATE'],\n",
              "     [176, 195, 'DATE'],\n",
              "     [226, 246, 'DATE'],\n",
              "     [258, 272, 'CASE NUMBER'],\n",
              "     [273, 452, 'ADVOCATES OF PETIONER'],\n",
              "     [455, 534, 'ADVOCATES OF RESPONDENT'],\n",
              "     [537, 636, 'CORAM']]}],\n",
              "  [\"\\n\\nMS Chennai Petroleum\\nvs MIS Hes Infra Private Limited\\nMadras High Court\\nM/S Chennai Petroleum\\nvs M/S Hes Infra Private Limited\\nIN THE HIGH COURT OF  JUDICATURE AT MADRAS\\nRESERVED ON\\n19.03.2018\\nPRONOUNCED ON\\n26 .03.2018\\nCORAM\\nTHE HON 'BLE MR.JUSTICE M.M.SUNDRESH\\n0 .P.No.429 of 2016\\nM/s Chennai Petroleum Corporation Limited,\\n536 ,\\nAnna Salai \\nTeynampet ,\\nChennai-600 018 _\\nRepresented by its Deputy General Manager\\nMr.M.Sankaranarayanan\\nPetitioner\\nVs\\nM/s HES Infra Private Limited _\\nPlot No.39 ,\\nRoad No.14 ,\\nB.N.Reddy Colony ,\\nBanjara Hills, Hyderabad-34 .\\nRespondent\\nPetition filedeatilem 34 0f the Arbitration and Conciliation Act , 1996 ,\\nto set aside the\\nFor Petitioner\\nMr . R.Senthil Kumar\\nfor\\nM/s Dua Associates\\nFor respondents\\nMr . Sathish Parasaran, S.C. ,\\nfor Mr.A.Srinath\\n* * * * *\\nIndian Kanoon - http:Ilindiankanoon.org/doc/63526307/\\n\",\n",
              "   {'entities': [[2, 25, 'APPELLANT'],\n",
              "     [26, 55, 'RESPONDENT'],\n",
              "     [56, 73, 'COURT'],\n",
              "     [74, 98, 'APPELLANT'],\n",
              "     [99, 128, 'RESPONDENT'],\n",
              "     [136, 171, 'COURT'],\n",
              "     [184, 194, 'DATE'],\n",
              "     [221, 263, 'CORAM'],\n",
              "     [264, 283, 'CASE NUMBER']]}],\n",
              "  ['\\n\\nM/S Indian Oil Corporation Ltd vs M/S Fabtech Works And\\non 15 May, 2014\\n0.P.No.485 of 2\\nIN THE HIGH COURT OF  JUDICATURE AT MADRAS\\nJudgment reserved\\non\\n31.10.2019\\nJudgment pronounced on\\n08 . 11.2019\\nCORAM\\nTHE HONOURABLE Mr\\nJUSTICE SENTHILKUMAR RAMAMOORTHY\\n0,P_\\nNo. 485 of 2014\\nM/s.Indian Oil Corporation Ltd,\\nRep .\\nby its Deputy General Manager(LPG)\\nTamil Nadu State Office,\\nNo.139 , Nungambakkam High Road ,\\nChennai\\n600 034.\\nPetitioner\\nVs\\n1.M/s. Fabtech Works and Constructions\\nPlot Nos.H-44/H-43/H-42 ,\\nM.ID.C .\\nAdditional Murbad _\\nVillage: Kudavali ,\\nMurbad\\n421 401 _\\nVia   Kalyan Dist. Thane(M.S) _\\n2.S.Annamalai\\nSole Arbitrator _\\nNo.139 , Nungambakkam High Road ,\\nChennai\\n600  034,\\nRespondents\\nPrayer:\\nIndian Kanoon - http:Ilindiankanoon.org/doc/2495380/\\n',\n",
              "   {'entities': [[2, 35, 'APPELLANT'],\n",
              "     [36, 53, 'RESPONDENT'],\n",
              "     [61, 73, 'DATE'],\n",
              "     [74, 89, 'CASE NUMBER'],\n",
              "     [97, 132, 'COURT'],\n",
              "     [201, 257, 'CORAM'],\n",
              "     [259, 278, 'CASE NUMBER'],\n",
              "     [279, 309, 'APPELLANT'],\n",
              "     [311, 438, 'APPELANT ADDRESS'],\n",
              "     [442, 687, 'RESPONDENT ADDRESS']]}],\n",
              "  ['\\n\\nIndian Oil Corporation Limited vs Kiran Construction Co. And Anr: on 27 September; 2002\\nDelhi High Court\\nIndian Oil Corporation Limited vs Kiran Construction Co And Anr: on 27 September, 2002\\nEquivalent citations: 102 (2003) DLT 908\\nAuthor: U Mehra\\nBench: U Mehra; 0 Dwivedi\\nJUDGMENT Usha Mehra, J.\\nIndian Kanoon - http:Ilindiankanoon.org/doc/692921/\\n',\n",
              "   {'entities': [[2, 35, 'APPELLANT'],\n",
              "     [36, 66, 'RESPONDENT'],\n",
              "     [71, 89, 'DATE'],\n",
              "     [90, 106, 'COURT'],\n",
              "     [107, 140, 'APPELLANT'],\n",
              "     [141, 170, 'RESPONDENT'],\n",
              "     [175, 193, 'DATE'],\n",
              "     [194, 234, 'CASE NUMBER'],\n",
              "     [235, 250, 'AUTHOR'],\n",
              "     [251, 300, 'CORAM']]}],\n",
              "  [\"\\n\\nThe State Of Jharkhand vs MS India Builders on 20 July; 2012\\nJharkhand High Court\\nThe State Of Jharkhand vs M/S India Builders on 20 July, 2012\\nIN THE HIGH COURT OF JHARKHAND AT RANCHI\\nArbitration Appeal\\nno\\n19 of 2007\\nThe Indian Builders, Jamshedpur versus The State of Jharkhand With Arbitration Appeal No 18 of\\n2007 The State of Jharkhand versus The Indian Builders, Jamshedpur\\nCORAM: The Hon'ble Mr. Justice RK Merathia\\nFor the Appellant:\\nMr\\nM.S. Mittal, Sr\\nAdvocate\\nFor the State:\\nMr _\\nV.K. Prasad , Advocate\\nOrder No _\\n14\\nDated 2Oth July, 2012\\nIndian Kanoon - http:Ilindiankanoon org/doc/198742343/\\n\",\n",
              "   {'entities': [[2, 27, 'APPELLANT'],\n",
              "     [28, 45, 'RESPONDENT'],\n",
              "     [49, 62, 'DATE'],\n",
              "     [63, 109, 'APPELLANT'],\n",
              "     [110, 128, 'RESPONDENT'],\n",
              "     [132, 145, 'DATE'],\n",
              "     [149, 186, 'COURT'],\n",
              "     [187, 381, 'CASE NUMBER'],\n",
              "     [382, 424, 'CORAM'],\n",
              "     [425, 471, 'ADVOCATES OF PETIONER'],\n",
              "     [472, 514, 'ADVOCATES OF RESPONDENT']]}],\n",
              "  ['\\n\\nMS. Konkan Railway Corporation\\nvs WS. Rani Construction Pvt: Ltd on 30 January; 2002\\nSupreme Court of India\\nM/S. Konkan Railway Corporation\\nvs M/S. Rani Construction Pvt: Ltd on 30 January, 2002\\nAuthor: B I.\\nBench: Cji, Syed Shah Quadri; U. C. Banerjee, SN. Variava, Shivaraj V. Patil\\nCASE NO _\\nAppeal (civil) 5880-5889\\nof\\n1997\\nPETITIONER:\\nM/S\\nKONKAN RAILWAY CORPORATION LTD .\\n& ANR _\\nVs\\nRESPONDENT\\nM/S.\\nRANI CONSTRUCTION PVT. LTD _\\nDATE OF JUDGMENT:\\n30/01/2002\\nBENCH:\\nCJI,\\nSYED SHAH MOHAMMED QUADRI _\\nU,\\nC. BANERJEE, S.N\\nVARIAVA & SHIVARAJ V_\\nPATIL\\nJUDGMENT =\\nWITHC.A. Nos. 713-714/1999, C.A No. 715/1999, C.A No. 716/1999, C.A. Nos 2037-2040/1999,\\nC.A No. 2041/1999,C.A Nos. 2042-2044/1999, C.A No. 4311/1999, C.A No. 4312/1999, CA No.\\n4324/1999, CA. No. 4356/1999, CA. No. 7304/1999 and CA Nos 7306-7309/1999.\\nJUD G MENT Bharucha, CJ I:\\nIndian Kanoon - http:Ilindiankanoon.org/doc/202973/\\n',\n",
              "   {'entities': [[2, 35, 'APPELLANT'],\n",
              "     [36, 66, 'RESPONDENT'],\n",
              "     [70, 86, 'DATE'],\n",
              "     [87, 109, 'COURT'],\n",
              "     [110, 144, 'APPELLANT'],\n",
              "     [145, 176, 'RESPONDENT'],\n",
              "     [180, 196, 'DATE'],\n",
              "     [197, 286, 'AUTHOR'],\n",
              "     [287, 329, 'CASE NUMBER'],\n",
              "     [330, 389, 'APPELLANT'],\n",
              "     [390, 432, 'RESPONDENT'],\n",
              "     [435, 463, 'DATE'],\n",
              "     [464, 551, 'CORAM'],\n",
              "     [563, 814, 'CASE NUMBER']]}],\n",
              "  ['\\n\\nMS Mahanagar Telephone Nigam\\nvs MS H.S Construction Co on 9 October, 2019\\nDelhi District Court\\nM/S Mahanagar Telephone Nigam\\nvs M/S H.S Construction Co on 9 October, 2019\\nIn THE COURT OF SH HARGURVARINDER SINGH JAGGI _\\nADDL _\\nDISTRICT JUDGE\\n02 _\\nSOUTH WEST DISTRICT ,\\nDWARKA COURTS , DELHI\\nOMP   (COMM)\\nNo\\n52/2019\\nCNR No. DLSWO10025202017\\nIN THE MATTER OF\\n1\\nM/s Mahanagar Telephone Nigam Limited\\nThe General Manager (Rohini)\\nMTNL >_\\nSanchar Parisar, Sec.III, Rohini\\nNew Delhi -110085\\nPetitioner\\nV_\\n1\\nM/s H.S.Construction Co\\nA-1/B-6 , Local Shopping Centre\\nJanakpuri,\\nNew Delhi\\n110058\\nRespondent\\nDate f filing of petition:\\n14.03.2017\\nDate of judgment reserved:\\n28 . 08.2019\\nDate of pronouncement of judgment:\\n09.10.2019\\nJUDGMENT\\nIndian Kanoon - http:Ilindiankanoon org/doc/194382917/\\n',\n",
              "   {'entities': [[2, 33, 'APPELLANT'],\n",
              "     [34, 56, 'RESPONDENT'],\n",
              "     [60, 75, 'DATE'],\n",
              "     [76, 96, 'COURT'],\n",
              "     [97, 129, 'APPELLANT'],\n",
              "     [130, 153, 'RESPONDENT'],\n",
              "     [157, 172, 'DATE'],\n",
              "     [292, 315, 'CASE NUMBER']]}],\n",
              "  ['\\n\\nNational Highways Authority Of\\nvs Bumihiway Ddb Ltd: (Jv)\\nOrs on 25 September; 2006\\nSupreme Court of India\\nNational Highways Authority Of\\nVS\\nBumihiway Ddb Ltd: (Jv) & Ors on 25 September; 2006\\nAuthor:\\nA Lakshmanan\\nBench: Dr. Ar. Lakshmanan; Tarun Chatterjee\\nCASE NO _\\nAppeal (civil)\\n4251 of 2006\\nPETITIONER:\\nNational Highways Authority of India & Anr\\nRESPONDENT\\nBumihiway DDB Ltd\\n(JV)\\nOrs\\nDATE OF JUDGMENT: 25/09/2006\\nBENCH:\\nDr _\\nAR _\\nLakshmanan\\nTarun Chatterjee\\nJUDGMENT =\\nJUD G MENT (Arising out of SLP (C) No 8924/2006) Dr: AR. Lakshmanan, J.\\nLeave granted:\\nIndian Kanoon - http Ilindiankanoon org/doc/1534562/\\n',\n",
              "   {'entities': [[2, 35, 'APPELLANT'],\n",
              "     [36, 63, 'RESPONDENT'],\n",
              "     [67, 85, 'DATE'],\n",
              "     [86, 108, 'COURT'],\n",
              "     [109, 142, 'APPELLANT'],\n",
              "     [143, 172, 'RESPONDENT'],\n",
              "     [176, 194, 'DATE'],\n",
              "     [195, 215, 'AUTHOR'],\n",
              "     [216, 259, 'CORAM'],\n",
              "     [260, 297, 'CASE NUMBER'],\n",
              "     [298, 352, 'APPELLANT'],\n",
              "     [353, 390, 'RESPONDENT'],\n",
              "     [391, 419, 'DATE'],\n",
              "     [420, 464, 'CORAM']]}],\n",
              "  [\"\\n\\nMS National Highways Authority\\nvs MS Bscpl on 17 December; 2014\\nDelhi High Court\\nM/S National Highways Authority\\nvs M/S Bscpl on 17 December, 2014\\nAuthor: Deepa Sharma\\nX\\nIN THE HIGH COURT OF DELHI AT NEW DELHI\\n0.M.P_\\n472/2013\\nJudgement reserved\\non: 24.09.2014\\n%\\nJudgment pronounced on: 17.12.2014 _\\nM/S NATIONAL HIGHWAYS AUTHORITY OF INDIA\\nPetitioner\\nThrough:\\nMr_\\nSudhir Nandrajog, Sr_\\nAdvocate\\nwith Ms.\\nTanu Priya Gupta and\\nMr .Mukesh Verma\\nAdvocates \\nversus\\nM/S BSCPL\\nRespondent\\nThrough:\\nMr.Amit George and Mr.Ajay Kumar\\nJha\\nAdvocates.\\nAnd\\n0.M.P_\\n305/2013\\nM/S NATIONAL HIGHWAYS AUTHORITY OF INDIA _\\nPetitioner\\nThrough: Mr Sudhir Nandrajog,\\nSenior Adv with\\nMs Tanu Priya Gupta and Mr Mukesh Verma\\nAdvs\\nversus\\nM/S NCC-VEE (JV)\\nRespondent\\nThrough:\\nMr Krishna Vijay Singh, Advocate\\nCORAM:\\nHON ' BLE MS _\\nJUSTICE DEEPA SHARMA\\n0.M.P.Nos\\n472/2013 and 305/2013\\nPage 1 of 45\\nJUDGMENT\\nIndian Kanoon - http:Ilindiankanoon org/doc/12278657/\\n\",\n",
              "   {'entities': [[2, 35, 'APPELLANT'],\n",
              "     [36, 44, 'RESPONDENT'],\n",
              "     [48, 65, 'DATE'],\n",
              "     [66, 82, 'COURT'],\n",
              "     [83, 117, 'APPELLANT'],\n",
              "     [118, 127, 'RESPONDENT'],\n",
              "     [131, 148, 'DATE'],\n",
              "     [149, 169, 'AUTHOR'],\n",
              "     [212, 227, 'CASE NUMBER'],\n",
              "     [301, 461, 'APPELANT ADDRESS'],\n",
              "     [462, 539, 'RESPONDENT ADDRESS'],\n",
              "     [782, 824, 'CORAM']]}],\n",
              "  ['\\n\\nMS. Ongc Mangalore\\nvs MS. Ans Constructions Limited on 7 February, 2018\\nSupreme Court of India\\nM/S. Ongc Mangalore\\nvs M/S. Ans Constructions Limited on 7 February, 2018\\nAuthor: R Agrawal\\nREPORTABLE\\nIN THE SUPREME COURT OF INDIA\\nCIVIL APPELLATE JURISDICTION\\nCIVIL APPEAL NO _\\n1659 OF 2018\\n(Arising out 0f Special Leave Petition (C) NO .\\n12939 OF 2015)\\nM/s ONGC Mangalore Petrochemicals Ltd.\\nAppellant (s)\\nVersus\\nM/s ANS Constructions Ltd\\n& Anr_\\nRespondent (s)\\nJUDGMENT\\nRK Agrawal, J.\\nIndian Kanoon - http Ilindiankanoon org/doc/72573735/\\n',\n",
              "   {'entities': [[2, 23, 'APPELLANT'],\n",
              "     [24, 53, 'RESPONDENT'],\n",
              "     [57, 73, 'DATE'],\n",
              "     [74, 96, 'COURT'],\n",
              "     [97, 119, 'APPELLANT'],\n",
              "     [120, 150, 'RESPONDENT'],\n",
              "     [154, 170, 'DATE'],\n",
              "     [171, 188, 'AUTHOR'],\n",
              "     [259, 352, 'CASE NUMBER']]}],\n",
              "  ['\\n\\nOil & Natural Gas Corporation Ltd vs Saw Pipes Ltd on 17 April; 2003\\nSupreme Court of India\\nOil & Natural Gas Corporation Ltd vs Saw Pipes Ltd on 17 April, 2003\\nAuthor: Shah\\nBench: M.B. Shah, Arun Kumar:\\nCASE NO _\\nAppeal (civil)\\n7419\\n2001\\nof 518\\nPETITIONER:\\nOil & Natural Gas Corporation Ltd.\\nRESPONDENT =\\nSAW Pipes Ltd.\\nDATE OF JUDGMENT: 17/04/2003\\nBENCH:\\nM.B\\nSHAH\\nARUN KUMAR.\\nJUDGMENT =\\nJUDG MENT Shah, J.\\nIndian Kanoon - http:Ilindiankanoon org/doc/919241/\\n',\n",
              "   {'entities': [[2, 38, 'APPELLANT'],\n",
              "     [39, 52, 'RESPONDENT'],\n",
              "     [56, 70, 'DATE'],\n",
              "     [71, 93, 'COURT'],\n",
              "     [94, 130, 'APPELLANT'],\n",
              "     [131, 144, 'RESPONDENT'],\n",
              "     [148, 162, 'DATE'],\n",
              "     [163, 175, 'AUTHOR'],\n",
              "     [176, 204, 'CORAM'],\n",
              "     [206, 247, 'CASE NUMBER'],\n",
              "     [248, 294, 'APPELANT ADDRESS'],\n",
              "     [295, 322, 'RESPONDENT ADDRESS'],\n",
              "     [323, 351, 'DATE'],\n",
              "     [352, 379, 'CORAM']]}],\n",
              "  ['\\n\\nsupreme court of india\\nm/s. ongc mangalore  vs m/s. ans constructions limited on 7 february, 2018\\nauthor: r agrawal\\nreportable\\nin the supreme court of india\\ncivil appellate jurisdiction\\ncivil appeal no. 1659 of 2018\\n(arising out of special leave petition (c) no. 12939 of 2015)\\nm/s ongc mangalore petrochemicals ltd.appellant(s)\\nversus\\nm/s ans constructions ltd. & anr.respondent(s)\\njudgment\\nr.k. agrawal, j.\\nindian kanoon - \\n',\n",
              "   {'entities': [[2, 24, 'COURT'],\n",
              "     [25, 48, 'APPELLANT'],\n",
              "     [49, 79, 'RESPONDENT'],\n",
              "     [83, 99, 'DATE'],\n",
              "     [100, 117, 'AUTHOR'],\n",
              "     [188, 279, 'CASE NUMBER'],\n",
              "     [280, 337, 'APPELLANT'],\n",
              "     [338, 393, 'RESPONDENT']]}],\n",
              "  ['\\n\\nProject Director vs WS.Rns Infrastructure Ltd Gpl\\non 8 February, 2017\\nMadras High Court\\nProject Director vs M/S Rns Infrastructure Ltd Gpl\\non 8 February, 2017\\nIN THE HIGH COURT OF  JUDICATURE AT MADRAS\\nReserved\\non\\n04.01.2018\\nDelivered on\\n09.02.2018\\nCORAM:\\nTHE HONOURABLE MS.JUSTICE INDIRA BANERJEE , CHIEF JUSTICE\\nand\\nTHE HONOURABLE MR.JUSTICE ABDUL QUDDHOSE\\n0.S.A.No.301 of 2017\\nand C.M.P.No.18730 of 2017\\nProject Director\\nTamil Nadu Road Sector Project II,\\nTNMB Building\\nlst Floor,\\n171,\\nSouth Kesavaperumalpuram,\\nOff Greenways Road _\\nR.A.Puram, Chennai 0 600 028 _\\nAppellant\\nVs\\n1.M/s.RNS Infrastructure Ltd 0 GPL (JC)\\nMurudeshwar Bhavan ,\\nGokul Road ,\\nHubli 0 580 030 _\\n2.Mr.M.V.S.Rao, Presiding Arbitrator,\\nNo. 147/6, 10th Main, 3rd Block,\\nKoramangala,\\nBangalore [ 560 034 .\\n3. Mr.S.Sivaraman, Arbitrator ,\\n5/8 , Second Street\\nMarackayar Nagar,\\nNeelangarai,\\nChennai 0 600 041 _\\n4.Mr.N.R. Venkatesh Prasad ,\\nArbitrator,\\nNo. 87 ,\\n14th,\\nA Cross, XI Main,\\nMalleshwaram\\nBangalore [ 560 003 _\\nRespondents\\nPrayer: Original Side Appeal filed under Order XXXVI Rules read with Clause 15 of the Letters\\nFor\\nAppellant\\nMr.S.T.S. Moorthy , (AAG)\\nAsst\\nby Mr.Venugopal Spl .Govt.Pleader(c.S)\\nIndian Kanoon - http:Ilindiankanoon org/doc/140577846/\\n',\n",
              "   {'entities': [[2, 21, 'APPELLANT'],\n",
              "     [22, 51, 'RESPONDENT'],\n",
              "     [55, 71, 'DATE'],\n",
              "     [72, 89, 'COURT'],\n",
              "     [90, 109, 'APPELLANT'],\n",
              "     [110, 140, 'RESPONDENT'],\n",
              "     [144, 160, 'DATE'],\n",
              "     [164, 203, 'COURT'],\n",
              "     [251, 360, 'CORAM'],\n",
              "     [361, 408, 'CASE NUMBER'],\n",
              "     [409, 581, 'APPELANT ADDRESS'],\n",
              "     [582, 909, 'RESPONDENT ADDRESS']]}],\n",
              "  ['\\n\\nCentral Organisation For Railway\\nvs MIS Eci Spic Smo Mcml (Jv) A Joint\\non 17 December; 2019\\nSupreme Court of India\\nCentral Organisation For Railway\\nvs M/S Eci Spic Smo Mcml (Jv) A Joint\\non 17 December,\\n2019\\nAuthor: R Banumathi\\nBench: R Banumathi, A.S. Bopanna\\nREPORTABLE\\nIN THE SUPREME COURT OF INDIA\\nCIVIL APPELLATE JURISDICTION\\nCIVIL APPEAL NOS _\\n9486-9487 OF 2019\\n(Arising out of SLP(C) Nos.24173-74 of 2019)\\nCENTRAL ORGANISATION FOR\\nRAILWAY ELECTRIFICATION\\nAppellant\\nVERSUS\\nM/S ECI-SPIC-SMO-MCML (JV)\\nA JOINT VENTURE COMPANY\\nRespondent\\nJUDGMENT\\nR BANUMATHI, J.\\nLeave granted:\\nIndian Kanoon - http:Ilindiankanoon org/doc/28100587/\\n',\n",
              "   {'entities': [[2, 37, 'APPELLANT'],\n",
              "     [38, 64, 'RESPONDENT'],\n",
              "     [76, 93, 'DATE'],\n",
              "     [94, 116, 'COURT'],\n",
              "     [117, 152, 'APPELLANT'],\n",
              "     [153, 179, 'RESPONDENT'],\n",
              "     [209, 228, 'AUTHOR'],\n",
              "     [229, 261, 'CORAM'],\n",
              "     [332, 413, 'CASE NUMBER'],\n",
              "     [414, 479, 'APPELANT ADDRESS'],\n",
              "     [480, 541, 'RESPONDENT ADDRESS']]}],\n",
              "  [\"\\n\\nState Of West Bengal vs Afcons Pauling (India) Limited on 10 September, 2013\\nCalcutta High Court\\nState Of West Bengal vs Afcons Pauling (India) Limited on 10 September, 2013\\nAuthor: Indira Banerjee\\nORDER SHEET\\nSheet No\\nA.P\\nNo _\\n346 of 2005\\nIN THE HIGH COURT AT CALCUTTA\\nORDINARY ORIGINAL CIVIL JURISDICTION\\nORIGINAL SIDE\\nIn the matter of\\nSTATE OF WEST BENGAL\\nVs\\nAFCONS PAULING  (INDIA) LIMITED\\nBEFORE =\\nThe Hon' ble Justice\\nINDIRA BANERJEE .\\nDate: 10.09.2013\\nJUDGMENT\\nIndian Kanoon - http Ilindiankanoon.org/doc/49992530/\\n\",\n",
              "   {'entities': [[2, 25, 'APPELLANT'],\n",
              "     [26, 56, 'RESPONDENT'],\n",
              "     [60, 78, 'DATE'],\n",
              "     [79, 98, 'COURT'],\n",
              "     [99, 122, 'APPELLANT'],\n",
              "     [123, 153, 'RESPONDENT'],\n",
              "     [160, 175, 'DATE'],\n",
              "     [176, 199, 'AUTHOR'],\n",
              "     [200, 241, 'CASE NUMBER']]}],\n",
              "  ['\\n\\nUnion Of India (Uoi) And Anr. vs J.G. Engineers Pvt: Ltd. on 8 February, 2005\\nGauhati High Court\\nUnion Of India (Uoi) And Anr: vs J.G. Engineers Pvt: Ltd. on 8 February, 2005\\nEquivalent citations: 2005 (2) ARBLR 412 Gau\\nAuthor: B Katakey\\nBench: D Biswas, B Katakey\\nJUDGMENT BP. Katakey, J.\\nIndian Kanoon - http:Ilindiankanoon org/doc/162868/\\n',\n",
              "   {'entities': [[2, 34, 'APPELLANT'],\n",
              "     [35, 59, 'RESPONDENT'],\n",
              "     [63, 79, 'DATE'],\n",
              "     [80, 98, 'COURT'],\n",
              "     [99, 131, 'APPELLANT'],\n",
              "     [132, 156, 'RESPONDENT'],\n",
              "     [160, 176, 'DATE'],\n",
              "     [177, 221, 'CASE NUMBER'],\n",
              "     [222, 239, 'AUTHOR'],\n",
              "     [240, 266, 'CORAM']]}],\n",
              "  ['\\n\\nUnion Of India & Ors vs MS. Master Construction Co on 25 April, 2011\\nSupreme Court of India\\nUnion Of India & Ors vs M/S. Master Construction Co on 25 April, 2011\\nAuthor: R Lodha\\nBench: Aftab Alam; RM. Lodha\\nREPORTABLE\\nIN THE SUPREME COURT OF INDIA\\nCIVIL APPELLATE JURISDICTION\\nCIVIL\\nAPPEAL NO.\\n3541 OF 2011\\n(Arising out of SLP (Civil) No_\\n8162 of 2007)\\nUnion of India & Ors_\\nAppellants\\nVersus\\nM/ s\\nMaster Construction Co _\\nRespondent\\nJUDGMENT\\nRM: Lodha, J.\\nLeave granted.\\nIndian Kanoon - http Ilindiankanoon org/doc/1682326/\\n\\n\\n\\n\\n\\n',\n",
              "   {'entities': [[2, 25, 'APPELLANT'],\n",
              "     [26, 52, 'RESPONDENT'],\n",
              "     [56, 70, 'DATE'],\n",
              "     [71, 93, 'COURT'],\n",
              "     [94, 117, 'APPELLANT'],\n",
              "     [118, 145, 'RESPONDENT'],\n",
              "     [149, 163, 'DATE'],\n",
              "     [164, 179, 'AUTHOR'],\n",
              "     [180, 208, 'CORAM'],\n",
              "     [279, 354, 'CASE NUMBER']]}]]}"
            ]
          },
          "metadata": {},
          "execution_count": 5
        }
      ]
    },
    {
      "cell_type": "code",
      "source": [
        "for text, annot in tqdm(TRAIN_DATA['annotations']):\n",
        "    doc = nlp.make_doc(text)\n",
        "    ents = []\n",
        "    for start, end, label in annot[\"entities\"]:\n",
        "        span = doc.char_span(start, end, label=label, alignment_mode=\"contract\")\n",
        "        if span is None:\n",
        "           print(\"Skipping entity\")\n",
        "        else:\n",
        "           ents.append(span)\n",
        "    doc.ents = ents\n",
        "    db.add(doc)\n",
        "\n",
        "db.to_disk(\"./training_data_cleaned_NER.spacy\")"
      ],
      "metadata": {
        "colab": {
          "base_uri": "https://localhost:8080/"
        },
        "id": "B24CV6XAedHw",
        "outputId": "af4bac0d-df2c-47fd-ea17-cb781939532c"
      },
      "execution_count": null,
      "outputs": [
        {
          "output_type": "stream",
          "name": "stderr",
          "text": [
            "100%|██████████| 17/17 [00:00<00:00, 222.57it/s]\n"
          ]
        }
      ]
    },
    {
      "cell_type": "code",
      "source": [
        "! python -m spacy init config config.cfg --lang en --pipeline ner --optimize efficiency"
      ],
      "metadata": {
        "colab": {
          "base_uri": "https://localhost:8080/"
        },
        "id": "vY1TtKq9edMf",
        "outputId": "c0f623a5-c9b1-49df-a02c-3cc142ee4afc"
      },
      "execution_count": null,
      "outputs": [
        {
          "output_type": "stream",
          "name": "stdout",
          "text": [
            "2022-10-04 05:35:22.278631: E tensorflow/stream_executor/cuda/cuda_driver.cc:271] failed call to cuInit: CUDA_ERROR_NO_DEVICE: no CUDA-capable device is detected\n",
            "\u001b[38;5;3m⚠ To generate a more effective transformer-based config (GPU-only),\n",
            "install the spacy-transformers package and re-run this command. The config\n",
            "generated now does not use transformers.\u001b[0m\n",
            "\u001b[38;5;4mℹ Generated config template specific for your use case\u001b[0m\n",
            "- Language: en\n",
            "- Pipeline: ner\n",
            "- Optimize for: efficiency\n",
            "- Hardware: CPU\n",
            "- Transformer: None\n",
            "\u001b[38;5;2m✔ Auto-filled config with all values\u001b[0m\n",
            "\u001b[38;5;2m✔ Saved config\u001b[0m\n",
            "config.cfg\n",
            "You can now add your data and train your pipeline:\n",
            "python -m spacy train config.cfg --paths.train ./train.spacy --paths.dev ./dev.spacy\n"
          ]
        }
      ]
    },
    {
      "cell_type": "code",
      "source": [
        "! python -m spacy train config.cfg --output ./ --paths.train ./training_data_cleaned_NER.spacy --paths.dev ./training_data_cleaned_NER.spacy"
      ],
      "metadata": {
        "colab": {
          "base_uri": "https://localhost:8080/"
        },
        "id": "3AKvSo28edPB",
        "outputId": "2dcfa426-75a2-4f0e-cba3-e6a313a64992"
      },
      "execution_count": null,
      "outputs": [
        {
          "output_type": "stream",
          "name": "stdout",
          "text": [
            "2022-10-04 05:35:33.347944: E tensorflow/stream_executor/cuda/cuda_driver.cc:271] failed call to cuInit: CUDA_ERROR_NO_DEVICE: no CUDA-capable device is detected\n",
            "\u001b[38;5;4mℹ Saving to output directory: .\u001b[0m\n",
            "\u001b[38;5;4mℹ Using CPU\u001b[0m\n",
            "\u001b[1m\n",
            "=========================== Initializing pipeline ===========================\u001b[0m\n",
            "[2022-10-04 05:35:34,132] [INFO] Set up nlp object from config\n",
            "INFO:spacy:Set up nlp object from config\n",
            "[2022-10-04 05:35:34,148] [INFO] Pipeline: ['tok2vec', 'ner']\n",
            "INFO:spacy:Pipeline: ['tok2vec', 'ner']\n",
            "[2022-10-04 05:35:34,153] [INFO] Created vocabulary\n",
            "INFO:spacy:Created vocabulary\n",
            "[2022-10-04 05:35:34,155] [INFO] Finished initializing nlp object\n",
            "INFO:spacy:Finished initializing nlp object\n",
            "[2022-10-04 05:35:34,704] [INFO] Initialized pipeline components: ['tok2vec', 'ner']\n",
            "INFO:spacy:Initialized pipeline components: ['tok2vec', 'ner']\n",
            "\u001b[38;5;2m✔ Initialized pipeline\u001b[0m\n",
            "\u001b[1m\n",
            "============================= Training pipeline =============================\u001b[0m\n",
            "\u001b[38;5;4mℹ Pipeline: ['tok2vec', 'ner']\u001b[0m\n",
            "\u001b[38;5;4mℹ Initial learn rate: 0.001\u001b[0m\n",
            "E    #       LOSS TOK2VEC  LOSS NER  ENTS_F  ENTS_P  ENTS_R  SCORE \n",
            "---  ------  ------------  --------  ------  ------  ------  ------\n",
            "  0       0          0.00    103.83    0.00    0.00    0.00    0.00\n",
            " 11     200      10927.44  11209.89   65.06   72.97   58.70    0.65\n",
            " 23     400      14582.28   3939.36   92.14   91.89   92.39    0.92\n",
            " 35     600       2571.23    908.59   94.15   96.57   91.85    0.94\n",
            " 47     800       4589.81   1080.89   96.15   97.22   95.11    0.96\n",
            " 58    1000       4053.11    683.86   97.79   99.44   96.20    0.98\n",
            " 71    1200        465.45    175.92   98.64   98.38   98.91    0.99\n",
            " 84    1400        602.55    151.73   99.18  100.00   98.37    0.99\n",
            "100    1600         76.85     82.23   99.18   99.45   98.91    0.99\n",
            "121    1800        592.33    160.25   99.18   99.45   98.91    0.99\n",
            "148    2000       1516.55    167.61   99.46   99.46   99.46    0.99\n",
            "181    2200        498.26    157.50   99.46   99.46   99.46    0.99\n",
            "222    2400        503.29    153.14   99.46   99.46   99.46    0.99\n",
            "273    2600        577.70    165.28   99.46   99.46   99.46    0.99\n",
            "337    2800        237.70    144.76   99.46   99.46   99.46    0.99\n",
            "403    3000       6301.27    256.49   99.46   99.46   99.46    0.99\n",
            "469    3200        289.53    137.22   99.46   99.46   99.46    0.99\n",
            "536    3400         98.92    144.88   99.45  100.00   98.91    0.99\n",
            "603    3600        135.10    128.65   99.46   99.46   99.46    0.99\n",
            "\u001b[38;5;2m✔ Saved pipeline to output directory\u001b[0m\n",
            "model-last\n"
          ]
        }
      ]
    },
    {
      "cell_type": "code",
      "source": [
        "nlp_ner = spacy.load(\"/content/model-last\")"
      ],
      "metadata": {
        "id": "g2VA5c2eedRV"
      },
      "execution_count": null,
      "outputs": []
    },
    {
      "cell_type": "code",
      "source": [
        "import pickle"
      ],
      "metadata": {
        "id": "3_CqhLiPedTw"
      },
      "execution_count": null,
      "outputs": []
    },
    {
      "cell_type": "code",
      "source": [
        "with open('model1_pickle_cleaned_NER', 'wb') as f:\n",
        "  pickle.dump(nlp_ner, f)"
      ],
      "metadata": {
        "id": "93HEW-vDedWH"
      },
      "execution_count": null,
      "outputs": []
    },
    {
      "cell_type": "code",
      "source": [
        "with open(\"/T1107.txt\") as f1:\n",
        "  x = f1.read()"
      ],
      "metadata": {
        "id": "aPAMYmy1etEX"
      },
      "execution_count": null,
      "outputs": []
    },
    {
      "cell_type": "code",
      "source": [
        "doc1 = nlp_ner(x)"
      ],
      "metadata": {
        "id": "Bltl88x5etHC"
      },
      "execution_count": null,
      "outputs": []
    },
    {
      "cell_type": "code",
      "source": [
        "spacy.displacy.render(doc1, style=\"ent\", jupyter=True)"
      ],
      "metadata": {
        "colab": {
          "base_uri": "https://localhost:8080/",
          "height": 1000
        },
        "id": "ZJkYEapZetJm",
        "outputId": "afa0a3fd-6cf7-4e2e-9250-6a4f17552302"
      },
      "execution_count": null,
      "outputs": [
        {
          "output_type": "display_data",
          "data": {
            "text/plain": [
              "<IPython.core.display.HTML object>"
            ],
            "text/html": [
              "<span class=\"tex2jax_ignore\"><div class=\"entities\" style=\"line-height: 2.5; direction: ltr\">The Kolhapur Municipal</br>\n",
              "<mark class=\"entity\" style=\"background: #bfe1d9; padding: 0.45em 0.6em; margin: 0 0.25em; line-height: 1; border-radius: 0.35em;\">\n",
              "    vs Fairdeal Construction on\n",
              "    <span style=\"font-size: 0.8em; font-weight: bold; line-height: 1; border-radius: 0.35em; vertical-align: middle; margin-left: 0.5rem\">DATE</span>\n",
              "</mark>\n",
              " \n",
              "<mark class=\"entity\" style=\"background: #bfe1d9; padding: 0.45em 0.6em; margin: 0 0.25em; line-height: 1; border-radius: 0.35em;\">\n",
              "    15 October, 2019\n",
              "    <span style=\"font-size: 0.8em; font-weight: bold; line-height: 1; border-radius: 0.35em; vertical-align: middle; margin-left: 0.5rem\">DATE</span>\n",
              "</mark>\n",
              "</br>\n",
              "<mark class=\"entity\" style=\"background: #ddd; padding: 0.45em 0.6em; margin: 0 0.25em; line-height: 1; border-radius: 0.35em;\">\n",
              "    Bombay High Court\n",
              "    <span style=\"font-size: 0.8em; font-weight: bold; line-height: 1; border-radius: 0.35em; vertical-align: middle; margin-left: 0.5rem\">COURT</span>\n",
              "</mark>\n",
              "</br>The Kolhapur Municipal</br>\n",
              "<mark class=\"entity\" style=\"background: #bfe1d9; padding: 0.45em 0.6em; margin: 0 0.25em; line-height: 1; border-radius: 0.35em;\">\n",
              "    vs Fairdeal Construction on\n",
              "    <span style=\"font-size: 0.8em; font-weight: bold; line-height: 1; border-radius: 0.35em; vertical-align: middle; margin-left: 0.5rem\">DATE</span>\n",
              "</mark>\n",
              " \n",
              "<mark class=\"entity\" style=\"background: #bfe1d9; padding: 0.45em 0.6em; margin: 0 0.25em; line-height: 1; border-radius: 0.35em;\">\n",
              "    15 October, 2019\n",
              "    <span style=\"font-size: 0.8em; font-weight: bold; line-height: 1; border-radius: 0.35em; vertical-align: middle; margin-left: 0.5rem\">DATE</span>\n",
              "</mark>\n",
              "</br>\n",
              "<mark class=\"entity\" style=\"background: #ddd; padding: 0.45em 0.6em; margin: 0 0.25em; line-height: 1; border-radius: 0.35em;\">\n",
              "    Bench: RD Dhanuka\n",
              "904-carbpl018-19.doc\n",
              "vai\n",
              "    <span style=\"font-size: 0.8em; font-weight: bold; line-height: 1; border-radius: 0.35em; vertical-align: middle; margin-left: 0.5rem\">CORAM</span>\n",
              "</mark>\n",
              "</br>IN THE \n",
              "<mark class=\"entity\" style=\"background: #ddd; padding: 0.45em 0.6em; margin: 0 0.25em; line-height: 1; border-radius: 0.35em;\">\n",
              "    HIGH COURT OF JUDICATURE AT BOMBAY\n",
              "    <span style=\"font-size: 0.8em; font-weight: bold; line-height: 1; border-radius: 0.35em; vertical-align: middle; margin-left: 0.5rem\">COURT</span>\n",
              "</mark>\n",
              "</br>ORDINARY ORIGINAL CIVIL JURISDICTION</br>IN ITS COMMERCIAL DIVISION</br>\n",
              "<mark class=\"entity\" style=\"background: #ddd; padding: 0.45em 0.6em; margin: 0 0.25em; line-height: 1; border-radius: 0.35em;\">\n",
              "    COMMERCIAL ARBITRATION PETITION NO.1018 OF 2019\n",
              "The Kolhapur Municipal Corporation\n",
              "Off\n",
              "Bhavsingji Road, Post Box No.33,\n",
              "Kolhapur\n",
              "416 002 .\n",
              "Petitioner\n",
              "    <span style=\"font-size: 0.8em; font-weight: bold; line-height: 1; border-radius: 0.35em; vertical-align: middle; margin-left: 0.5rem\">CASE NUMBER</span>\n",
              "</mark>\n",
              "</br>Versus</br>Fairdeal Construction,</br>Through Proprietor, K.N. Jyothindran_</br>;</br>R/o.</br>Green Heritage, B-1302 ,</br>Plot No.79/80 ,</br>Sector 20 _</br>Kharghar ,</br>)</br>Navi Mumbai</br>410 210 .</br>)</br>Respondent</br>Mr.Prasad Dhakephalkar , Senior Counsel With Mr.Firoz Bharucha _</br>Mr.Abhijit M_</br>Adagule and Mr.S.R. Ganbavale for the Petitioner.</br>Mr .Gaurav Joshi_</br>Senior Counsel with Mr . Saurabh Pakale i/b</br>Mr.Nilesh Das for the Respondent</br>\n",
              "<mark class=\"entity\" style=\"background: #ddd; padding: 0.45em 0.6em; margin: 0 0.25em; line-height: 1; border-radius: 0.35em;\">\n",
              "    CORAM\n",
              "R. D\n",
              "DHANUKA , J\n",
              "    <span style=\"font-size: 0.8em; font-weight: bold; line-height: 1; border-radius: 0.35em; vertical-align: middle; margin-left: 0.5rem\">CORAM</span>\n",
              "</mark>\n",
              "_</br>\n",
              "<mark class=\"entity\" style=\"background: #bfe1d9; padding: 0.45em 0.6em; margin: 0 0.25em; line-height: 1; border-radius: 0.35em;\">\n",
              "    DATE : 15TH OCTOBER, 2019.\n",
              "    <span style=\"font-size: 0.8em; font-weight: bold; line-height: 1; border-radius: 0.35em; vertical-align: middle; margin-left: 0.5rem\">DATE</span>\n",
              "</mark>\n",
              "</br>ORAL JUDGMENT</br>1. Admit. Mr Joshi, learned senior counsel waives service for the respondent.</br>2. Affidavit in reply shall be filed within eight weeks from today with a copy to be served upon the</br>petitioner's advocate simultaneously. Rejoinder; if any, shall be filed within two weeks thereafter</br>with a copy to be served upon the respondents' advocate 904-carbp1o18-19.doc simultaneously.</br>Both the parties are at liberty to file compilation of pleadings, documents and evidence forming part</br>of the arbitral record within eight weeks from today with a copy to be served upon other side.</br>3. Insofar as the stay of the impugned award is concerned, MrDhakephalkar; learned senior counsel</br>appearing for the petitioner invited my attention to clause 26 of the arbitration agreement which is</br>extracted as under</br>&quot;26. ARBITRATION</br>Indian Kanoon - http:Ilindiankanoon.org/doc/20866028/</br></div></span>"
            ]
          },
          "metadata": {}
        }
      ]
    },
    {
      "cell_type": "code",
      "source": [],
      "metadata": {
        "id": "ctRI1-2chT22"
      },
      "execution_count": null,
      "outputs": []
    }
  ]
}