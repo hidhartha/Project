{
  "nbformat": 4,
  "nbformat_minor": 0,
  "metadata": {
    "colab": {
      "provenance": []
    },
    "kernelspec": {
      "name": "python3",
      "display_name": "Python 3"
    },
    "language_info": {
      "name": "python"
    }
  },
  "cells": [
    {
      "cell_type": "code",
      "execution_count": null,
      "metadata": {
        "id": "qh_c1RuNWV-k"
      },
      "outputs": [],
      "source": [
        "import pandas as pd\n",
        "import numpy as np"
      ]
    },
    {
      "cell_type": "code",
      "source": [
        "import re"
      ],
      "metadata": {
        "id": "09DmAqrhWgN8"
      },
      "execution_count": null,
      "outputs": []
    },
    {
      "cell_type": "code",
      "source": [
        "sent = ''"
      ],
      "metadata": {
        "id": "YDROMpn1XGTs"
      },
      "execution_count": null,
      "outputs": []
    },
    {
      "cell_type": "code",
      "source": [
        "lst = ['extended', 'delay', 'extension of time', 'time extension','time extensions','extended period','more time for execution','new completion time','delay in commencement','delay in execution']"
      ],
      "metadata": {
        "id": "Rr529vPUWlTJ"
      },
      "execution_count": null,
      "outputs": []
    },
    {
      "cell_type": "code",
      "source": [
        "res = 0\n",
        "for sub in lst:\n",
        "   if re.search(sub, sent):\n",
        "     res+=1\n",
        "\n",
        "res"
      ],
      "metadata": {
        "id": "Ua_piTVgWrno"
      },
      "execution_count": null,
      "outputs": []
    }
  ]
}
